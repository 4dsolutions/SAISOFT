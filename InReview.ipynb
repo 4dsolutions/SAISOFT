{
 "cells": [
  {
   "cell_type": "markdown",
   "metadata": {},
   "source": [
    "[Back to Overview](overview.ipynb)\n",
    "\n",
    "# Remembering Python\n",
    "\n",
    "Looking back on this course, you'll have had some quality time with but a few of the many riches stored out there in the cloud:  Sphinx, Django, Flask, pandas, PyCrypto, pillow, matplotlib and many more.\n",
    "\n",
    "We also considered the many IDEs (with an emphasis on Spyder) and kept returning to Jupyter Notebooks (as we're doing here), and Jupyter Labs.  Anaconda was our default distribution.\n",
    "\n",
    "However the main focus was on making the code readable, comprehensible, and that meant we focused on grammar and a core vocabulary.\n",
    "\n",
    "Coming out the other end of the tunnel, it pays to review.\n",
    "\n",
    "What were some of the core ideas again?\n",
    "\n",
    "Our review here covers some of the basic concepts, but in the examples reaches into some of the more arcane corners of the language.  Python remains engaging and entertaining, is the message there.\n",
    "\n",
    "## Mutable versus Immutable\n",
    "\n",
    "As you continue to explore the many languages, such as Clojure and Rust, you will come to appreciate the big difference immutability makes.  When you can count on an object to stay constant, the compiler has so much less to worry about.  \n",
    "\n",
    "Python's overall permissiveness and mutability, means it's a runtime experience first and foremost, with the compiling step not really a time for exhaustive checking, at least not for type consistency.  You might get some help from 3rd party tools, as Python does support type annotations."
   ]
  },
  {
   "cell_type": "code",
   "execution_count": 1,
   "metadata": {},
   "outputs": [
    {
     "name": "stdout",
     "output_type": "stream",
     "text": [
      "{'n': <class 'int'>, 'return': <class 'int'>}\n"
     ]
    }
   ],
   "source": [
    "def cubocta(n : int) -> int:\n",
    "    \"\"\"\n",
    "    https://oeis.org/A005901\n",
    "    \n",
    "    Number of points on surface of cuboctahedron (or icosahedron): \n",
    "    a(0) = 1; for n > 0, a(n) = 10n^2 + 2. Also coordination \n",
    "    sequence for f.c.c. or A_3 or D_3 lattice. \n",
    "    \"\"\"\n",
    "    if n == 1:\n",
    "        return 1\n",
    "    return 10 * n**2 + 2\n",
    "\n",
    "print(cubocta.__annotations__)"
   ]
  },
  {
   "cell_type": "markdown",
   "metadata": {},
   "source": [
    "When you encounter a new type, or revisit an old one, sometimes ask yourself if it's mutable and remember, if it is, it won't be suitable as a dict key.  That's not the only criterion however.  Dictionary keys must also be \"hashable\".  Lets explore all these concepts.\n",
    "\n",
    "First questions: are slices immutable and might they therefore serve as dict keys?"
   ]
  },
  {
   "cell_type": "code",
   "execution_count": 2,
   "metadata": {},
   "outputs": [
    {
     "data": {
      "text/plain": [
       "['slice', 'slice', 'slice', 'slice']"
      ]
     },
     "execution_count": 2,
     "metadata": {},
     "output_type": "execute_result"
    }
   ],
   "source": [
    "bread_slices = slice(3,7)\n",
    "loaf = (\"slice \" * 10).split()\n",
    "loaf[bread_slices]"
   ]
  },
  {
   "cell_type": "markdown",
   "metadata": {},
   "source": [
    "Is the slice type at all mutable?  Once upper and lower bounds are provided, along with stride or step -- the optional 3rd argument -- is there anything we might do to alter these attributes?  \n",
    "\n",
    "If not, that would seem to make them immutable."
   ]
  },
  {
   "cell_type": "code",
   "execution_count": 3,
   "metadata": {},
   "outputs": [
    {
     "data": {
      "text/plain": [
       "'__class__, __delattr__, __dir__, __doc__, __eq__, __format__, __ge__, __getattribute__, __gt__, __hash__, __init__, __init_subclass__, __le__, __lt__, __ne__, __new__, __reduce__, __reduce_ex__, __repr__, __setattr__, __sizeof__, __str__, __subclasshook__, indices, start, step, stop'"
      ]
     },
     "execution_count": 3,
     "metadata": {},
     "output_type": "execute_result"
    }
   ],
   "source": [
    "\", \".join(dir(bread_slices))"
   ]
  },
  {
   "cell_type": "code",
   "execution_count": 4,
   "metadata": {},
   "outputs": [
    {
     "data": {
      "text/plain": [
       "3"
      ]
     },
     "execution_count": 4,
     "metadata": {},
     "output_type": "execute_result"
    }
   ],
   "source": [
    "bread_slices.start"
   ]
  },
  {
   "cell_type": "code",
   "execution_count": 5,
   "metadata": {},
   "outputs": [
    {
     "name": "stdout",
     "output_type": "stream",
     "text": [
      "readonly attribute\n"
     ]
    }
   ],
   "source": [
    "# here's the test\n",
    "try:\n",
    "    bread_slices.start = 4\n",
    "except Exception as e:\n",
    "    print(e)"
   ]
  },
  {
   "cell_type": "markdown",
   "metadata": {},
   "source": [
    "And yet, we'll find ```bread_slices```, immutable as it seems, is not any good as a dict key."
   ]
  },
  {
   "cell_type": "code",
   "execution_count": 6,
   "metadata": {},
   "outputs": [
    {
     "name": "stdout",
     "output_type": "stream",
     "text": [
      "<class 'slice'>\n",
      "Nice try, no cigar\n"
     ]
    }
   ],
   "source": [
    "print(type(bread_slices))\n",
    "the_dict = dict()\n",
    "try:\n",
    "    the_dict[bread_slices] = ['m','u','t','a','b','l','e',' ','v','a','l','u','e']\n",
    "except:\n",
    "    print(\"Nice try, no cigar\")  # idiom meanining desired outcome not achieved, though not for lack of meritorious endeavor"
   ]
  },
  {
   "cell_type": "markdown",
   "metadata": {},
   "source": [
    "We've learned in the above experiment, that no, a slice is not hashable, meaning there's no way to compare its uniqueness to something else, other than by memory location."
   ]
  },
  {
   "cell_type": "code",
   "execution_count": 7,
   "metadata": {},
   "outputs": [
    {
     "data": {
      "text/plain": [
       "True"
      ]
     },
     "execution_count": 7,
     "metadata": {},
     "output_type": "execute_result"
    }
   ],
   "source": [
    "bread_slices > slice(1,None)"
   ]
  },
  {
   "cell_type": "code",
   "execution_count": 8,
   "metadata": {},
   "outputs": [
    {
     "data": {
      "text/plain": [
       "True"
      ]
     },
     "execution_count": 8,
     "metadata": {},
     "output_type": "execute_result"
    }
   ],
   "source": [
    "s1 = slice(0,9)\n",
    "s2 = slice(0,8)\n",
    "s1 > s2"
   ]
  },
  {
   "cell_type": "markdown",
   "metadata": {},
   "source": [
    "Aha!  A clue.  The slice type does implement the comparator operators, based on comparing the (start, stop) tuples, element by element.\n",
    "\n",
    "Lets go back to where we have no comparitor operators whatsoever..."
   ]
  },
  {
   "cell_type": "code",
   "execution_count": 9,
   "metadata": {},
   "outputs": [
    {
     "data": {
      "text/plain": [
       "False"
      ]
     },
     "execution_count": 9,
     "metadata": {},
     "output_type": "execute_result"
    }
   ],
   "source": [
    "class Dog:\n",
    "    pass\n",
    "\n",
    "kennel = {Dog():\"spunky\", Dog():\"needs shots\", Dog():\"pickup tomorrow\"}\n",
    "\n",
    "Dog() is Dog()"
   ]
  },
  {
   "cell_type": "markdown",
   "metadata": {},
   "source": [
    "That worked!  \n",
    "\n",
    "Dog instances with nothing but memory locations to tell them apart, may serve as keys. \n",
    "\n",
    "However as soon as you hint that dog instances are orderable, by defining `__eq__`, you're suggesting they're likewise hashable, and yet ```__hash__``` is undefined, as in we're no longer sure what \"identical\" means, as there's a value developing.  There's no fallback to using memeory id."
   ]
  },
  {
   "cell_type": "code",
   "execution_count": 10,
   "metadata": {},
   "outputs": [
    {
     "name": "stdout",
     "output_type": "stream",
     "text": [
      "unhashable type: 'Dog'\n"
     ]
    }
   ],
   "source": [
    "class Dog:\n",
    "    def __init__(self, v):\n",
    "        self.v = v\n",
    "    def __eq__(self, other):\n",
    "        return self.v == other.v\n",
    "\n",
    "try: \n",
    "    kennel = {Dog(1):\"spunky\", Dog(2):\"needs shots\", Dog(3):\"pickup tomorrow\"}\n",
    "except Exception as e:\n",
    "    print(e)"
   ]
  },
  {
   "cell_type": "markdown",
   "metadata": {},
   "source": [
    "Lets see if we might repair our dog's suitability as a dict key, by making hashability again depend on nothing more than memory location, surely unique per each object.  \n",
    "\n",
    "There's no longer a danger of two dog instances being equal, that hadn't been before.  This is what corrupts a dictionary, when any two keys are no longer unique.  Depending on some `v` was going down the wrong path.\n",
    "\n",
    "When the Dog instances had no comparison capabilities, the fallback reliance on memory location was sufficient to assure hashability."
   ]
  },
  {
   "cell_type": "code",
   "execution_count": 11,
   "metadata": {},
   "outputs": [
    {
     "name": "stdout",
     "output_type": "stream",
     "text": [
      "False\n"
     ]
    }
   ],
   "source": [
    "class Dog(object):\n",
    "    pass\n",
    "\n",
    "dog1 = Dog()\n",
    "dog2 = Dog()\n",
    "print(dog1 == dog2)"
   ]
  },
  {
   "cell_type": "code",
   "execution_count": 12,
   "metadata": {},
   "outputs": [
    {
     "name": "stdout",
     "output_type": "stream",
     "text": [
      "{<__main__.Dog object at 0x10e8130f0>: 'spunky', <__main__.Dog object at 0x10e813080>: 'needs shots', <__main__.Dog object at 0x10e813128>: 'pickup tomorrow'}\n"
     ]
    }
   ],
   "source": [
    "class Dog:\n",
    "    def __init__(self, v):\n",
    "        self.v = v\n",
    "    def __eq__(self, other):\n",
    "        return self.v == other.v\n",
    "    def __hash__(self):\n",
    "        return id(self)\n",
    "\n",
    "try: \n",
    "    kennel = {Dog(0):\"spunky\", Dog(0):\"needs shots\", Dog(0):\"pickup tomorrow\"}\n",
    "except Exception as e:\n",
    "    print(e)\n",
    "    \n",
    "print(kennel)"
   ]
  },
  {
   "cell_type": "markdown",
   "metadata": {},
   "source": [
    "We're back in the money.  `__hash__` has given us a safe way in which to determine inequality."
   ]
  },
  {
   "cell_type": "code",
   "execution_count": 13,
   "metadata": {},
   "outputs": [
    {
     "name": "stdout",
     "output_type": "stream",
     "text": [
      "True\n"
     ]
    }
   ],
   "source": [
    "dog1, dog2 = Dog(1), Dog(2)\n",
    "dog1.v = dog2.v = 3  # force same v\n",
    "print(dog1 == dog2)"
   ]
  },
  {
   "cell_type": "markdown",
   "metadata": {},
   "source": [
    "And yet:"
   ]
  },
  {
   "cell_type": "code",
   "execution_count": 14,
   "metadata": {},
   "outputs": [
    {
     "data": {
      "text/plain": [
       "{<__main__.Dog at 0x10e8137f0>: 'dog1', <__main__.Dog at 0x10e813828>: 'dog2'}"
      ]
     },
     "execution_count": 14,
     "metadata": {},
     "output_type": "execute_result"
    }
   ],
   "source": [
    "{dog1:\"dog1\", dog2:\"dog2\"}  # hashability is restored"
   ]
  },
  {
   "cell_type": "code",
   "execution_count": 15,
   "metadata": {},
   "outputs": [
    {
     "name": "stdout",
     "output_type": "stream",
     "text": [
      "dog1\n",
      "dog2\n"
     ]
    }
   ],
   "source": [
    "print({dog1:\"dog1\", dog2:\"dog2\"}[dog1])\n",
    "print({dog1:\"dog1\", dog2:\"dog2\"}[dog2])"
   ]
  },
  {
   "cell_type": "markdown",
   "metadata": {},
   "source": [
    "An evil thought may occur to one:  might we deliberately define ```__hash__``` in such a way that corruption could be possible?  Lets try:"
   ]
  },
  {
   "cell_type": "code",
   "execution_count": 16,
   "metadata": {},
   "outputs": [],
   "source": [
    "class Dog:\n",
    "    def __init__(self, v):\n",
    "        self.v = v\n",
    "    def __eq__(self, other):\n",
    "        return self.v == other.v\n",
    "    def __hash__(self):\n",
    "        return True\n",
    "\n",
    "try:\n",
    "    dog1 = Dog(3)\n",
    "    dog2 = Dog(4)\n",
    "    kennel = {dog1:\"spunky\", dog2:\"needs shots\"}\n",
    "except Exception as e:\n",
    "    print(e)"
   ]
  },
  {
   "cell_type": "code",
   "execution_count": 17,
   "metadata": {},
   "outputs": [
    {
     "name": "stdout",
     "output_type": "stream",
     "text": [
      "True\n",
      "dog2\n",
      "dog2\n"
     ]
    }
   ],
   "source": [
    "dog1, dog2 = Dog(3), Dog(4)\n",
    "dog1.v = dog2.v = 3  # force same v\n",
    "print(dog1 == dog2)\n",
    "print({dog1:\"dog1\", dog2:\"dog2\"}[dog1])\n",
    "print({dog1:\"dog1\", dog2:\"dog2\"}[dog2])"
   ]
  },
  {
   "cell_type": "code",
   "execution_count": 18,
   "metadata": {},
   "outputs": [
    {
     "data": {
      "text/plain": [
       "{<__main__.Dog at 0x10e802470>: 'needs shots',\n",
       " <__main__.Dog at 0x10e8024a8>: 'spunky'}"
      ]
     },
     "execution_count": 18,
     "metadata": {},
     "output_type": "execute_result"
    }
   ],
   "source": [
    "kennel"
   ]
  },
  {
   "cell_type": "code",
   "execution_count": 19,
   "metadata": {},
   "outputs": [
    {
     "name": "stdout",
     "output_type": "stream",
     "text": [
      "CASE 1\n",
      "Same value?: True\n",
      "kennel[dog1]): spunky\n",
      "kennel[dog2]): spunky\n",
      "CASE 2\n",
      "Same value?: True\n",
      "kennel[dog1]): spunky\n",
      "kennel[dog2]): spunky\n",
      "CASE 3\n",
      "Same value?: False\n",
      "kennel[dog1]): spunky\n",
      "kennel[dog2]): needs shots\n"
     ]
    }
   ],
   "source": [
    "# CASE 1\n",
    "print(\"CASE 1\")\n",
    "print(\"Same value?:\", dog1 == dog2)\n",
    "print(\"kennel[dog1]):\", kennel[dog1])\n",
    "print(\"kennel[dog2]):\", kennel[dog2])\n",
    "\n",
    "# CASE 2\n",
    "print(\"CASE 2\")\n",
    "dog1.v = dog2.v\n",
    "print(\"Same value?:\", dog1 == dog2)\n",
    "print(\"kennel[dog1]):\", kennel[dog1])\n",
    "print(\"kennel[dog2]):\", kennel[dog2])\n",
    "\n",
    "# CASE 3\n",
    "print(\"CASE 3\")\n",
    "dog2.v = 4\n",
    "print(\"Same value?:\", dog1 == dog2)\n",
    "print(\"kennel[dog1]):\", kennel[dog1])\n",
    "print(\"kennel[dog2]):\", kennel[dog2])"
   ]
  },
  {
   "cell_type": "markdown",
   "metadata": {},
   "source": [
    "## Callable versus Not Callable\n",
    "\n",
    "Another distinction we spent some time on:  the difference between objects it makes sense to \"call\", versus those considered \"uncallable\".  \n",
    "\n",
    "```obj( )``` is the syntax in question, i.e. parentheses attached to an object like a mouth, into which arguments may be inserted, to be matched with parameters in the callable's definition.\n",
    "\n",
    "In other words, regardless of whether arguments are appropriate, any object that performs work, raises no exception, when \"given a mouth\", is what we call a \"callable\".  \n",
    "\n",
    "The function callable, a built-in, returns True or False with respect to that question."
   ]
  },
  {
   "cell_type": "code",
   "execution_count": 20,
   "metadata": {},
   "outputs": [
    {
     "data": {
      "text/plain": [
       "False"
      ]
     },
     "execution_count": 20,
     "metadata": {},
     "output_type": "execute_result"
    }
   ],
   "source": [
    "callable(3)"
   ]
  },
  {
   "cell_type": "code",
   "execution_count": 21,
   "metadata": {},
   "outputs": [
    {
     "data": {
      "text/plain": [
       "True"
      ]
     },
     "execution_count": 21,
     "metadata": {},
     "output_type": "execute_result"
    }
   ],
   "source": [
    "callable(callable)"
   ]
  },
  {
   "cell_type": "code",
   "execution_count": 22,
   "metadata": {},
   "outputs": [
    {
     "data": {
      "text/plain": [
       "False"
      ]
     },
     "execution_count": 22,
     "metadata": {},
     "output_type": "execute_result"
    }
   ],
   "source": [
    "callable(True)"
   ]
  },
  {
   "cell_type": "code",
   "execution_count": 23,
   "metadata": {},
   "outputs": [],
   "source": [
    "def uncallable(obj):\n",
    "    return not callable(obj)"
   ]
  },
  {
   "cell_type": "code",
   "execution_count": 24,
   "metadata": {},
   "outputs": [
    {
     "data": {
      "text/plain": [
       "True"
      ]
     },
     "execution_count": 24,
     "metadata": {},
     "output_type": "execute_result"
    }
   ],
   "source": [
    "uncallable(3)"
   ]
  },
  {
   "cell_type": "code",
   "execution_count": 25,
   "metadata": {},
   "outputs": [
    {
     "data": {
      "text/plain": [
       "False"
      ]
     },
     "execution_count": 25,
     "metadata": {},
     "output_type": "execute_result"
    }
   ],
   "source": [
    "uncallable(uncallable)"
   ]
  },
  {
   "cell_type": "markdown",
   "metadata": {},
   "source": [
    "If one is a callable, then one has a ```__call__``` method, i.e. the following should be a truism:"
   ]
  },
  {
   "cell_type": "code",
   "execution_count": 26,
   "metadata": {},
   "outputs": [
    {
     "name": "stdout",
     "output_type": "stream",
     "text": [
      "True\n",
      "True\n",
      "True\n",
      "True\n"
     ]
    }
   ],
   "source": [
    "for obj in ([], 3, {}, (lambda x: x)):\n",
    "    print(callable(obj) == (\"__call__\" in dir(obj)))"
   ]
  },
  {
   "cell_type": "markdown",
   "metadata": {},
   "source": [
    "## Iterable Versus Iterator\n",
    "\n",
    "An iterable is any object it makes sense to for loop over, such as collections, but not individual integers.  The iterator is the object actually doing the iterating.\n",
    "\n",
    "Think of an iterable as a sequence of lilly pads across a pond, with the iterators being the frogs that hop along them, from one to the other.\n",
    "\n",
    "The way to check if an object is an iterator is to look for both ```__next__``` and ```__iter__```.  Those are the spots that tell you it's a leopard.  We often classify classes according to their signature methods.\n",
    "\n",
    "An iterable needs at least a ```__getitem__```, in which case Python's built-in iter( ) will assume consecutive integers starting from 0, fed to ```__getitem__```, is a sensible meaning for the iterator's ```__next__```."
   ]
  },
  {
   "cell_type": "code",
   "execution_count": 27,
   "metadata": {},
   "outputs": [
    {
     "name": "stdout",
     "output_type": "stream",
     "text": [
      "6 5 4 3 2 1 "
     ]
    }
   ],
   "source": [
    "class Thing:\n",
    "    \n",
    "    def __init__(self, L):\n",
    "        self.__L = L\n",
    "        \n",
    "    def __iter__(self):\n",
    "        # generator expression\n",
    "        return (it for it in reversed(self.__L))\n",
    "    \n",
    "thething = Thing([1,2,3,4,5,6]) # initialize the iterable\n",
    "\n",
    "for element in thething:  # iter(thething) is implicitly applied\n",
    "    print(element, end= \" \")\n"
   ]
  },
  {
   "cell_type": "markdown",
   "metadata": {},
   "source": [
    "## Generator, Descriptor and Context Manager\n",
    "\n",
    "Now that we've identified the iterator by its methods, we might do so with respect to these other categories:  generator, descriptor and context manager.\n",
    "\n",
    "Let's go a little deeper with the generator.\n",
    "\n",
    "The generator is really a subcategory of iterator in that it has both ```__iter__``` and ```__next__```.  What it will also have, though, is a ```send``` method, which indicates either the presence of a ```yield``` in the source code, or a generator expression.  \n",
    "\n",
    "Iterators implemented using ```yield``` in principle have the capability receive through ```send``` as well, although this capability may not be implemented."
   ]
  },
  {
   "cell_type": "code",
   "execution_count": 28,
   "metadata": {},
   "outputs": [
    {
     "name": "stdout",
     "output_type": "stream",
     "text": [
      "Generator?: False\n"
     ]
    }
   ],
   "source": [
    "the_iter = iter([]) # iterator in general\n",
    "print(\"Generator?:\", \"send\" in \" \".join(dir(the_iter)))"
   ]
  },
  {
   "cell_type": "code",
   "execution_count": 29,
   "metadata": {},
   "outputs": [
    {
     "name": "stdout",
     "output_type": "stream",
     "text": [
      "29\n",
      "Generator?: True\n"
     ]
    }
   ],
   "source": [
    "L = list(range(30))\n",
    "g = (it for it in reversed(L))\n",
    "print(next(g))\n",
    "print(\"Generator?:\", \"send\" in \" \".join(dir(g)))"
   ]
  },
  {
   "cell_type": "code",
   "execution_count": 30,
   "metadata": {},
   "outputs": [
    {
     "name": "stdout",
     "output_type": "stream",
     "text": [
      "0 1 2 3 4 5 6 7 8 9 "
     ]
    }
   ],
   "source": [
    "def Tractor():\n",
    "    n = 0\n",
    "    tank = 10\n",
    "    while tank:\n",
    "        gas = (yield n)\n",
    "        if gas:\n",
    "            tank += gas\n",
    "            print(\"\\ntank at\", tank)\n",
    "        else:\n",
    "            n += 1\n",
    "            tank -= 1\n",
    "    return \"Gold & Silver\"\n",
    "        \n",
    "t = Tractor()\n",
    "for pos in t:\n",
    "    print(pos, end=\" \")"
   ]
  },
  {
   "cell_type": "code",
   "execution_count": 31,
   "metadata": {},
   "outputs": [
    {
     "name": "stdout",
     "output_type": "stream",
     "text": [
      "0 1 2 3 4 5 6 7 8 \n",
      "tank at 10\n",
      "kaching!\n",
      "9 10 11 12 13 14 15 16 17 "
     ]
    }
   ],
   "source": [
    "t = Tractor()\n",
    "while True:\n",
    "    try:\n",
    "        pos = next(t)\n",
    "    except StopIteration:\n",
    "        break\n",
    "    else:\n",
    "        print(pos, end=\" \")\n",
    "        if pos == 8:  # time for refill\n",
    "            t.send(8)\n",
    "            print(\"kaching!\")"
   ]
  },
  {
   "cell_type": "code",
   "execution_count": 32,
   "metadata": {},
   "outputs": [
    {
     "name": "stdout",
     "output_type": "stream",
     "text": [
      "Hello, I'm going to delegate to another generator\n",
      " 0 1 2 3 4 5 6 7 8 9 \n",
      "I have finished delegating and now will throw away the result "
     ]
    }
   ],
   "source": [
    "def driver():\n",
    "    yield \"Hello, I'm going to delegate to another generator\\n\"\n",
    "    t = Tractor()\n",
    "    result = (yield from t)\n",
    "    yield \"\\nI have finished delegating and now will throw away the result\"\n",
    "    \n",
    "gen = driver()\n",
    "for s in gen:\n",
    "    print(s, end=\" \")"
   ]
  },
  {
   "cell_type": "markdown",
   "metadata": {},
   "source": [
    "Recovering a ```return``` object from a generator is no mean trick.  Since ```yield``` is doing what ```return``` used to do, we're actually, in providing a `return` statement, effectively raising a StopIteration. \n",
    "\n",
    "We might choose to see this raised exception as a shutting down from within, a turning off the lights.  \n",
    "\n",
    "Yet there's an opportunity to leave a message in a bottle, to be discovered posthumously, so to speak.  Buried in the \"wreckage\" of a StopIteration is its value.\n",
    "\n",
    "The trick is to not let a for loop \"smooth over\" the internal shutdown, nor the ```yield from```.  \n",
    "\n",
    "In the latter case, having a name ready to catch this value, is a matter of simple assignment.\n",
    "```python\n",
    "    result = (yield from t)\n",
    "```\n",
    "\n",
    "However such syntax makes sense already in a generator.  The final return of this result outside any generator context, will need to be done during exception handling, as demonstrated below:"
   ]
  },
  {
   "cell_type": "code",
   "execution_count": 33,
   "metadata": {},
   "outputs": [
    {
     "name": "stdout",
     "output_type": "stream",
     "text": [
      "Hello, I'm going to delegate to another generator\n",
      " 0 1 2 3 4 5 6 7 8 9 \n",
      "I have finished delegating and now will keep the result\n",
      " Gold & Silver\n"
     ]
    }
   ],
   "source": [
    "def driver():\n",
    "    yield \"Hello, I'm going to delegate to another generator\\n\"\n",
    "    t = Tractor()\n",
    "    result = (yield from t)\n",
    "    yield \"\\nI have finished delegating and now will keep the result\\n\"\n",
    "    return result\n",
    "\n",
    "gen = driver()\n",
    "while True:\n",
    "    try:\n",
    "        print(next(gen), end=\" \")\n",
    "    except StopIteration as e:\n",
    "        print(e.value)\n",
    "        break"
   ]
  },
  {
   "cell_type": "markdown",
   "metadata": {},
   "source": [
    "`Gold & Silver` is what the Tractor instance returns when it runs out of gas.  \n",
    "\n",
    "\n",
    "Why a tractor would return such a string doesn't make a lot of sense, unless we're talking about the gold and silver it might take to effect repairs.  \n",
    "\n",
    "The idea is to suggest something valuable we really want to recover, and because we go to the trouble, in a `while True:` loop, to push though to a `StopIteration` we then handle explicitly, our mission is thereby accomplished."
   ]
  }
 ],
 "metadata": {
  "kernelspec": {
   "display_name": "Python 3",
   "language": "python",
   "name": "python3"
  },
  "language_info": {
   "codemirror_mode": {
    "name": "ipython",
    "version": 3
   },
   "file_extension": ".py",
   "mimetype": "text/x-python",
   "name": "python",
   "nbconvert_exporter": "python",
   "pygments_lexer": "ipython3",
   "version": "3.6.4"
  }
 },
 "nbformat": 4,
 "nbformat_minor": 2
}
