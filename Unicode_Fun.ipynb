{
 "cells": [
  {
   "cell_type": "markdown",
   "metadata": {},
   "source": [
    "[Back to Overview](overview.ipynb)\n",
    "\n",
    "# UNICODE IN PYTHON\n",
    "\n",
    "<a data-flickr-embed=\"true\"  href=\"https://www.flickr.com/photos/kirbyurner/31061849265/in/album-72157660337424600/\" title=\"chessboard_black_orange\"><img src=\"https://farm6.staticflickr.com/5773/31061849265_21895e52c8_z.jpg\" width=\"463\" height=\"533\" alt=\"chessboard_black_orange\"></a><script async src=\"//embedr.flickr.com/assets/client-code.js\" charset=\"utf-8\"></script>\n",
    "\n",
    "By default, Python sits atop the UTF-8 encoding of the Unicode codepoints database.  However, the default encoding of the operating system platform is also critical and may take precedence."
   ]
  },
  {
   "cell_type": "code",
   "execution_count": 1,
   "metadata": {},
   "outputs": [
    {
     "name": "stdout",
     "output_type": "stream",
     "text": [
      "['♔', '♕', '♖', '♗', '♘', '♙', '♚', '♛', '♜', '♝', '♞']\n"
     ]
    }
   ],
   "source": [
    "def chess():\n",
    "    print([chr(codepoint) \n",
    "        for codepoint in range(int('2654', 16), \n",
    "                               int('265F', 16))])\n",
    "    \n",
    "chess()"
   ]
  },
  {
   "cell_type": "markdown",
   "metadata": {},
   "source": [
    "<a data-flickr-embed=\"true\"  href=\"https://www.flickr.com/photos/kirbyurner/24979793752/in/album-72157660337424600/\" title=\"unicode_vs_ascii\"><img src=\"https://farm2.staticflickr.com/1674/24979793752_7ef905a515_n.jpg\" width=\"320\" height=\"265\" alt=\"unicode_vs_ascii\"></a><script async src=\"//embedr.flickr.com/assets/client-code.js\" charset=\"utf-8\"></script>\n",
    "\n",
    "<a data-flickr-embed=\"true\"  href=\"https://www.flickr.com/photos/kirbyurner/24733599809/in/album-72157660337424600/\" title=\"Unicode Cards\"><img src=\"https://farm2.staticflickr.com/1709/24733599809_15e9cd3a95_n.jpg\" width=\"320\" height=\"232\" alt=\"Unicode Cards\"></a><script async src=\"//embedr.flickr.com/assets/client-code.js\" charset=\"utf-8\"></script>\n",
    "\n",
    "Studying the UTF-8 specification is a great way to familiarize yourself with a low-level \"bits & bytes\" format.  One might typically approach this subject by looking at ASCII first, and then seeing how the two relate.\n",
    "\n",
    "ASCII = American Standard Code for Information Interchange"
   ]
  },
  {
   "cell_type": "code",
   "execution_count": 2,
   "metadata": {},
   "outputs": [
    {
     "data": {
      "image/jpeg": "[encoded data removed]",
      "text/html": [
       "\n",
       "        <iframe\n",
       "            width=\"400\"\n",
       "            height=\"300\"\n",
       "            src=\"https://www.youtube.com/embed/5aJKKgSEUnY\"\n",
       "            frameborder=\"0\"\n",
       "            allowfullscreen\n",
       "        ></iframe>\n",
       "        "
      ],
      "text/plain": [
       "<IPython.lib.display.YouTubeVideo at 0x111c278d0>"
      ]
     },
     "execution_count": 2,
     "metadata": {},
     "output_type": "execute_result"
    }
   ],
   "source": [
    "from IPython.lib.display import YouTubeVideo\n",
    "YouTubeVideo('5aJKKgSEUnY')"
   ]
  },
  {
   "cell_type": "markdown",
   "metadata": {},
   "source": [
    "Other encodings besides ASCII were important as well, however the PC (personal computer) revolution made ASCII come to the forefont, after which Unicode gradually took over, given it's a vastly greater mapping capable of encoding many more symbols."
   ]
  },
  {
   "cell_type": "code",
   "execution_count": 3,
   "metadata": {},
   "outputs": [
    {
     "data": {
      "image/jpeg": "[encoded data removed]",
      "text/html": [
       "\n",
       "        <iframe\n",
       "            width=\"400\"\n",
       "            height=\"300\"\n",
       "            src=\"https://www.youtube.com/embed/Z_sl99D2a18\"\n",
       "            frameborder=\"0\"\n",
       "            allowfullscreen\n",
       "        ></iframe>\n",
       "        "
      ],
      "text/plain": [
       "<IPython.lib.display.YouTubeVideo at 0x111d595c0>"
      ]
     },
     "execution_count": 3,
     "metadata": {},
     "output_type": "execute_result"
    }
   ],
   "source": [
    "YouTubeVideo('Z_sl99D2a18')"
   ]
  },
  {
   "cell_type": "code",
   "execution_count": 4,
   "metadata": {
    "collapsed": true
   },
   "outputs": [],
   "source": [
    "# %load unicode_fun.py\n",
    "#!/usr/bin/env python3\n",
    "\"\"\"\n",
    "Created on Tue Jul 31 11:36:12 2018\n",
    "\n",
    "@author: Kirby Urner\n",
    "\"\"\"\n",
    "\n",
    "def emoji():\n",
    "    for codepoint in range(int('1F600', 16), int('1F620', 16)):\n",
    "        print(chr(codepoint), end=\"\")\n",
    "    \n",
    "def hebrew():\n",
    "    print([chr(codepoint) \n",
    "        for codepoint in range(int('05D0', 16), \n",
    "                               int('05DA', 16))]) \n",
    "    \n",
    "def greek():\n",
    "    for codepoint in range(int('03D0', 16), int('03FF', 16)):\n",
    "        print(chr(codepoint), end=\"\")\n",
    "        \n",
    "def korean():\n",
    "    for codepoint in range(int('BB00', 16), int('BBAF', 16)):\n",
    "        print(chr(codepoint), end=\"\")\n",
    "        \n",
    "def arabic():\n",
    "    print([chr(codepoint) \n",
    "        for codepoint in range(int('0681', 16), \n",
    "                               int('06AF', 16))])\n",
    "\n",
    "def main():\n",
    "    print(\"\\nEMOJI\")\n",
    "    emoji()\n",
    "    print(\"\\n\\nHEBREW\")\n",
    "    hebrew()\n",
    "    print(\"\\n\\nGREEK & COPTIC\")        \n",
    "    greek()\n",
    "    print(\"\\n\\nKOREAN\")\n",
    "    korean()\n",
    "    print(\"\\n\\nARABIC\")\n",
    "    arabic()"
   ]
  },
  {
   "cell_type": "code",
   "execution_count": 5,
   "metadata": {},
   "outputs": [
    {
     "name": "stdout",
     "output_type": "stream",
     "text": [
      "\n",
      "EMOJI\n",
      "😀😁😂😃😄😅😆😇😈😉😊😋😌😍😎😏😐😑😒😓😔😕😖😗😘😙😚😛😜😝😞😟\n",
      "\n",
      "HEBREW\n",
      "['א', 'ב', 'ג', 'ד', 'ה', 'ו', 'ז', 'ח', 'ט', 'י']\n",
      "\n",
      "\n",
      "GREEK & COPTIC\n",
      "ϐϑϒϓϔϕϖϗϘϙϚϛϜϝϞϟϠϡϢϣϤϥϦϧϨϩϪϫϬϭϮϯϰϱϲϳϴϵ϶ϷϸϹϺϻϼϽϾ\n",
      "\n",
      "KOREAN\n",
      "묀묁묂묃묄묅묆묇묈묉묊묋묌묍묎묏묐묑묒묓묔묕묖묗묘묙묚묛묜묝묞묟묠묡묢묣묤묥묦묧묨묩묪묫묬묭묮묯묰묱묲묳무묵묶묷문묹묺묻물묽묾묿뭀뭁뭂뭃뭄뭅뭆뭇뭈뭉뭊뭋뭌뭍뭎뭏뭐뭑뭒뭓뭔뭕뭖뭗뭘뭙뭚뭛뭜뭝뭞뭟뭠뭡뭢뭣뭤뭥뭦뭧뭨뭩뭪뭫뭬뭭뭮뭯뭰뭱뭲뭳뭴뭵뭶뭷뭸뭹뭺뭻뭼뭽뭾뭿뮀뮁뮂뮃뮄뮅뮆뮇뮈뮉뮊뮋뮌뮍뮎뮏뮐뮑뮒뮓뮔뮕뮖뮗뮘뮙뮚뮛뮜뮝뮞뮟뮠뮡뮢뮣뮤뮥뮦뮧뮨뮩뮪뮫뮬뮭뮮\n",
      "\n",
      "ARABIC\n",
      "['ځ', 'ڂ', 'ڃ', 'ڄ', 'څ', 'چ', 'ڇ', 'ڈ', 'ډ', 'ڊ', 'ڋ', 'ڌ', 'ڍ', 'ڎ', 'ڏ', 'ڐ', 'ڑ', 'ڒ', 'ړ', 'ڔ', 'ڕ', 'ږ', 'ڗ', 'ژ', 'ڙ', 'ښ', 'ڛ', 'ڜ', 'ڝ', 'ڞ', 'ڟ', 'ڠ', 'ڡ', 'ڢ', 'ڣ', 'ڤ', 'ڥ', 'ڦ', 'ڧ', 'ڨ', 'ک', 'ڪ', 'ګ', 'ڬ', 'ڭ', 'ڮ']\n"
     ]
    }
   ],
   "source": [
    "from unicode_fun import main\n",
    "main()"
   ]
  },
  {
   "cell_type": "code",
   "execution_count": 6,
   "metadata": {},
   "outputs": [
    {
     "name": "stdout",
     "output_type": "stream",
     "text": [
      "💀\n",
      "SKULL\n",
      "So\n",
      "👻\n",
      "['🐙', '🐳', '🐯']\n",
      "💀💀💀💀💀💀💀💀💀💀\n",
      "😱😱😱😱😱😱😱😱😱😱\n",
      "Alias: :skull:\n",
      "Binary: b'\\xf0\\x9f\\x92\\x80'\n",
      "0b11110000 0b10011111 0b10010010 0b10000000\n",
      "Code point: 000011111010010000000\n",
      "Lookup val: 000011111010010000000\n",
      "Decode: 💀\n",
      "💀\n"
     ]
    }
   ],
   "source": [
    "import emoji_fun  # we'll look at the code in class"
   ]
  },
  {
   "cell_type": "markdown",
   "metadata": {},
   "source": [
    "Check out this page through the [Jupyter Notebook viewer](http://nbviewer.jupyter.org/github/4dsolutions/SAISOFT/blob/master/Unicode_Fun.ipynb)\n",
    "\n",
    "[Back to Overview](overview.ipynb)"
   ]
  }
 ],
 "metadata": {
  "kernelspec": {
   "display_name": "Python 3",
   "language": "python",
   "name": "python3"
  },
  "language_info": {
   "codemirror_mode": {
    "name": "ipython",
    "version": 3
   },
   "file_extension": ".py",
   "mimetype": "text/x-python",
   "name": "python",
   "nbconvert_exporter": "python",
   "pygments_lexer": "ipython3",
   "version": "3.6.4"
  }
 },
 "nbformat": 4,
 "nbformat_minor": 2
}
