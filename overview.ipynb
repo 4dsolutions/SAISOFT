{
 "cells": [
  {
   "cell_type": "markdown",
   "metadata": {},
   "source": [
    "[previous](Welcome.html)\n",
    "\n",
    "\n",
    "# Overview of Python World\n",
    "\n",
    "Python provides several dimensions along which to measure your comprehension of the language.\n",
    "\n",
    "These dimensions are:\n",
    "\n",
    "* keywords and punctuation\n",
    "* ```__builtins__``` (utility belt, lots of types)\n",
    "* ```__ribs__``` (special names)\n",
    "* Standard Library: hundreds of modules, importable \n",
    "* Ecosystem (3rd Party): a whole universe of goodies\n",
    "\n",
    "But what does all this have to do with our famous dot notation?\n",
    "\n",
    "Relax, ```__all__``` will become clear."
   ]
  },
  {
   "cell_type": "code",
   "execution_count": 1,
   "metadata": {},
   "outputs": [
    {
     "data": {
      "text/plain": [
       "['__build_class__', '__debug__', '__doc__', '__import__', '__loader__']"
      ]
     },
     "execution_count": 1,
     "metadata": {},
     "output_type": "execute_result"
    }
   ],
   "source": [
    "lowercase_elements = [element for element in dir(__builtins__) if element.islower()] \n",
    "lowercase_elements[0:5]  # first five"
   ]
  },
  {
   "cell_type": "code",
   "execution_count": 2,
   "metadata": {},
   "outputs": [
    {
     "data": {
      "text/plain": [
       "['super', 'tuple', 'type', 'vars', 'zip']"
      ]
     },
     "execution_count": 2,
     "metadata": {},
     "output_type": "execute_result"
    }
   ],
   "source": [
    "lowercase_elements[-5:]  # last five"
   ]
  },
  {
   "cell_type": "code",
   "execution_count": 3,
   "metadata": {},
   "outputs": [
    {
     "data": {
      "text/plain": [
       "80"
      ]
     },
     "execution_count": 3,
     "metadata": {},
     "output_type": "execute_result"
    }
   ],
   "source": [
    "len(lowercase_elements) # how many?"
   ]
  },
  {
   "cell_type": "markdown",
   "metadata": {},
   "source": [
    "Wow!"
   ]
  },
  {
   "cell_type": "code",
   "execution_count": 4,
   "metadata": {},
   "outputs": [
    {
     "data": {
      "text/plain": [
       "['help', 'input', 'issubclass', 'license', 'map', 'min', 'oct']"
      ]
     },
     "execution_count": 4,
     "metadata": {},
     "output_type": "execute_result"
    }
   ],
   "source": [
    "lowercase_elements[40:60:3]  # from element 40 to 59, every 3rd one"
   ]
  },
  {
   "cell_type": "code",
   "execution_count": null,
   "metadata": {},
   "outputs": [
    {
     "data": {
      "text/plain": [
       "Type license() to see the full license text"
      ]
     },
     "execution_count": 5,
     "metadata": {},
     "output_type": "execute_result"
    }
   ],
   "source": [
    "license"
   ]
  },
  {
   "cell_type": "code",
   "execution_count": null,
   "metadata": {},
   "outputs": [
    {
     "name": "stdout",
     "output_type": "stream",
     "text": [
      "A. HISTORY OF THE SOFTWARE\n",
      "==========================\n",
      "\n",
      "Python was created in the early 1990s by Guido van Rossum at Stichting\n",
      "Mathematisch Centrum (CWI, see http://www.cwi.nl) in the Netherlands\n",
      "as a successor of a language called ABC.  Guido remains Python's\n",
      "principal author, although it includes many contributions from others.\n",
      "\n",
      "In 1995, Guido continued his work on Python at the Corporation for\n",
      "National Research Initiatives (CNRI, see http://www.cnri.reston.va.us)\n",
      "in Reston, Virginia where he released several versions of the\n",
      "software.\n",
      "\n",
      "In May 2000, Guido and the Python core development team moved to\n",
      "BeOpen.com to form the BeOpen PythonLabs team.  In October of the same\n",
      "year, the PythonLabs team moved to Digital Creations, which became\n",
      "Zope Corporation.  In 2001, the Python Software Foundation (PSF, see\n",
      "https://www.python.org/psf/) was formed, a non-profit organization\n",
      "created specifically to own Python-related Intellectual Property.\n",
      "Zope Corporation was a sponsoring member of the PSF.\n",
      "\n",
      "All Python releases are Open Source (see http://www.opensource.org for\n",
      "the Open Source Definition).  Historically, most, but not all, Python\n"
     ]
    }
   ],
   "source": [
    "license()"
   ]
  },
  {
   "cell_type": "markdown",
   "metadata": {},
   "source": [
    "Here's another way of studying Python's history, by means of a [Computer Languages Timeline](https://www.levenez.com/lang/)"
   ]
  }
 ],
 "metadata": {
  "kernelspec": {
   "display_name": "Python 3",
   "language": "python",
   "name": "python3"
  },
  "language_info": {
   "codemirror_mode": {
    "name": "ipython",
    "version": 3
   },
   "file_extension": ".py",
   "mimetype": "text/x-python",
   "name": "python",
   "nbconvert_exporter": "python",
   "pygments_lexer": "ipython3",
   "version": "3.6.4"
  }
 },
 "nbformat": 4,
 "nbformat_minor": 2
}
