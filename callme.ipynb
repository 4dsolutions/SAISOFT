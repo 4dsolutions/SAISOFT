{
 "cells": [
  {
   "cell_type": "markdown",
   "metadata": {},
   "source": [
    "[Back to Overview](overview.ipynb)\n",
    "\n",
    "# CALLING CALLABLES\n",
    "\n",
    "An exercise I usually walk us through, as a strong introduction to using `__call__`, is I'll take a function type object had have a class swallow it though `__init__` (birth method) but have the instance be a callable into that function."
   ]
  },
  {
   "cell_type": "code",
   "execution_count": 1,
   "metadata": {},
   "outputs": [
    {
     "name": "stdout",
     "output_type": "stream",
     "text": [
      "<class '__main__.Compose'>\n",
      "[25, 16, 9, 4, 1, 0, 1, 4, 9, 16, 25]\n"
     ]
    }
   ],
   "source": [
    "class Compose:\n",
    "    \n",
    "    def __init__(self, func):\n",
    "        self.func = func\n",
    "    \n",
    "    def __call__(self, *p, **k):\n",
    "        return self.func(*p, **k)\n",
    "    \n",
    "def parabola(x, c=0):\n",
    "    return x ** 2 + c\n",
    "\n",
    "parabola = Compose(parabola)  # what 'decorating' does\n",
    "print(type(parabola))\n",
    "print(list(map(parabola, range(-5, 6))))"
   ]
  },
  {
   "cell_type": "markdown",
   "metadata": {},
   "source": [
    "This is precisely the use case for decorator syntax..."
   ]
  },
  {
   "cell_type": "code",
   "execution_count": 2,
   "metadata": {},
   "outputs": [
    {
     "name": "stdout",
     "output_type": "stream",
     "text": [
      "<class '__main__.Compose'>\n",
      "[20, 12, 6, 2, 0, 0, 2, 6, 12, 20, 30]\n"
     ]
    }
   ],
   "source": [
    "@Compose\n",
    "def trinomial(x, A=1, B=1, C=0):\n",
    "    return A * x ** 2 + B * x + C\n",
    "\n",
    "print(type(trinomial))\n",
    "print(list(map(trinomial, range(-5, 6))))"
   ]
  },
  {
   "cell_type": "markdown",
   "metadata": {},
   "source": [
    "However, before we talk about decorators, we need to focus on:\n",
    "\n",
    "```python\n",
    "    def __call__(self, *p, **k):\n",
    "        return self.func(*p, **k)\n",
    "```\n",
    "\n",
    "which is making use of the syntax we need to focus on.  The star, double-star stuff.\n",
    "\n",
    "When part of a `def`, we define parameters.  Once our callable is defined, we pass it arguments.  Parameters on the receiving end need to match up with arguments and bring them in to the function body.  The passed in arguments may acquire new names at this threshold, to serve under those names in the function body.\n",
    "\n",
    "Parameters do not join the global namespace.  They welcome arguments at the door, one might say, and usher them in to the scope of work.\n",
    "\n",
    "Below, we confirm no Python name `n` has been defined, neither before, nor after we have used `n` in the definition of a function, as a parameter."
   ]
  },
  {
   "cell_type": "code",
   "execution_count": 3,
   "metadata": {},
   "outputs": [
    {
     "name": "stdout",
     "output_type": "stream",
     "text": [
      "False\n"
     ]
    }
   ],
   "source": [
    "print(\"n\" in globals())"
   ]
  },
  {
   "cell_type": "code",
   "execution_count": 4,
   "metadata": {},
   "outputs": [
    {
     "name": "stdout",
     "output_type": "stream",
     "text": [
      "egg6\n",
      "False\n"
     ]
    }
   ],
   "source": [
    "carton = ['egg{}'.format(x) for x in range(12)]\n",
    "\n",
    "def get_from_carton(n=0):\n",
    "    return carton[n]\n",
    "\n",
    "print(get_from_carton(6))\n",
    "\n",
    "print(\"n\" in globals())"
   ]
  },
  {
   "cell_type": "markdown",
   "metadata": {},
   "source": [
    "In the above example, you're free to replace the 6 with any integer from 0 through 11, a way of addressing and getting back a reference to any egg in the global `carton`.  That choice of integer than gains the name `n` upon crossing the threshold into the `get_from_carton` function.\n",
    "\n",
    "However suppose we wish to retrieve an arbitrary number of eggs in arbitrary order.  How might we do that?"
   ]
  },
  {
   "cell_type": "code",
   "execution_count": 5,
   "metadata": {},
   "outputs": [
    {
     "name": "stdout",
     "output_type": "stream",
     "text": [
      "['egg6', 'egg3', 'egg1', 'egg11', 'egg0']\n"
     ]
    }
   ],
   "source": [
    "def get_from_carton(*sel):\n",
    "    tray = []\n",
    "    for idx in sel:\n",
    "        tray.append(carton[idx])\n",
    "    return tray\n",
    "\n",
    "print(get_from_carton(6, 3, 1, 11, 0))"
   ]
  },
  {
   "cell_type": "markdown",
   "metadata": {},
   "source": [
    "What the star in front of `sel` accomplished is the `gathering up` of five separately passed positional arguments, into a single tuple, named `sel`.  Even had only a single number been passed, `*sel` would have turned it into a tuple, of one element.  No matter, things work out.\n",
    "\n",
    "A for loop needs an iterable in all cases that an iterable, more specifically a tuple, is exactly what `*sel` provides.\n",
    "\n",
    "The double star serves as a parallel unary operator in the case of named arguments.  Any named arguments that don't match with either positionals or named parameters, get added to a catch-all dictionary.  We may study this phenomenon in vitro:"
   ]
  },
  {
   "cell_type": "code",
   "execution_count": 6,
   "metadata": {},
   "outputs": [
    {
     "name": "stdout",
     "output_type": "stream",
     "text": [
      "a=10; b=2; c=1; d=2, e=11, k={'s': 9, 'r': 5}\n"
     ]
    }
   ],
   "source": [
    "def fancy(a, b, c=1, d=2, *, e, **k):\n",
    "    return \"a={}; b={}; c={}; d={}, e={}, k={}\".format(a,b,c,d,e,k)\n",
    "    \n",
    "result = fancy(b=2, s=9, a=10, e=11, r=5)\n",
    "print(result)"
   ]
  },
  {
   "cell_type": "markdown",
   "metadata": {},
   "source": [
    "`a` and `b` get passed by name, in no particular order, yet match up with their positional counterparts just fine.  The star all by itself is a subtlety, and means the sebsequent parameters must be addressed by name, yet need not, as parameters, have default values.  We must pass an `e` by name, or get a `TypeError`.\n",
    "\n",
    "However, the main feature to which I draw your attention is the `**k`.  This is the \"gatherer of all wayward named arguments\", meaning the `s=9` and `r=5` in the function call, have somewhere to go:  into a dictionary named `k`.  \n",
    "\n",
    "Often, a Pythonista will use the specific names `args` and `kwargs` in connection with star and double star respectively.\n",
    "\n",
    "```python\n",
    "    def __call__(self, *args, **kwargs):\n",
    "        return self.func(*args, **kwargs)\n",
    "```\n",
    "\n",
    "The above version of `__call__` has been slightly modified to match the aforementioned convention.\n",
    "\n",
    "So now that we have explored the star (make a tuple) and double star (make a dict), when used at in the parameter definition, what does it mean to use them with arguments.\n",
    "\n",
    "Remember, arguments go into the callable's \"mouth\" when we call it, only to match up with parameters earlier defined.\n",
    "\n",
    "Quite rationally, star and double star perform complementary operations on the argument side.  Instead of gathering up, they break apart, or \"explode\" types of objects.  \n",
    "\n",
    "A single star explodes sequences, such as tuples and lists, ranges and strings, into separate (individual) positional arguments.\n",
    "\n",
    "A double star does the same for a dict type, exploding it into individual named arguments."
   ]
  },
  {
   "cell_type": "code",
   "execution_count": 7,
   "metadata": {},
   "outputs": [
    {
     "name": "stdout",
     "output_type": "stream",
     "text": [
      "('a', ' ', 's', 'i', 'n', 'g', 'l', 'e', ' ', 's', 't', 'r', 'i', 'n', 'g', ' ', 'b', 'u', 't', ' ', 'w', 'i', 't', 'h', ' ', 'a', ' ', 's', 't', 'a', 'r', ' ', 'i', 'n', ' ', 'f', 'r', 'o', 'n', 't')\n"
     ]
    }
   ],
   "source": [
    "def get_letters(*s):  # all the letters, gathered into a tuple\n",
    "    return s          # ... and simply returned\n",
    "\n",
    "print(get_letters(*\"a single string but with a star in front\"))"
   ]
  },
  {
   "cell_type": "code",
   "execution_count": 8,
   "metadata": {},
   "outputs": [
    {
     "data": {
      "text/plain": [
       "21"
      ]
     },
     "execution_count": 8,
     "metadata": {},
     "output_type": "execute_result"
    }
   ],
   "source": [
    "def get_names(*, a, b):\n",
    "    return a + b\n",
    "\n",
    "get_names(**{\"a\":10, \"b\":11})"
   ]
  },
  {
   "cell_type": "code",
   "execution_count": 9,
   "metadata": {},
   "outputs": [
    {
     "data": {
      "text/plain": [
       "21"
      ]
     },
     "execution_count": 9,
     "metadata": {},
     "output_type": "execute_result"
    }
   ],
   "source": [
    "get_names(b=11, a=10)"
   ]
  },
  {
   "cell_type": "markdown",
   "metadata": {},
   "source": [
    "And that, my friends, rounds out the mystery.  The star and double star each appear in two roles: in front of parameters; in front of arguments.\n",
    "\n",
    "In front of parameters, they gather up, vacuum up, hoover.  In front of arguments, they break apart, fragment, explode.\n",
    "\n",
    "A dict is a payload of named arguments, but needs to be unpacked.  Double star is the unpacker.  These unpacked named arguments may then be met by a double starred parameter on the receiving end.  There, the named arguments roll back up into a dictionary, and so on.\n",
    "\n",
    "The economy of this interface is time tested and keeps Python flexible and sinewy."
   ]
  }
 ],
 "metadata": {
  "kernelspec": {
   "display_name": "Python 3",
   "language": "python",
   "name": "python3"
  },
  "language_info": {
   "codemirror_mode": {
    "name": "ipython",
    "version": 3
   },
   "file_extension": ".py",
   "mimetype": "text/x-python",
   "name": "python",
   "nbconvert_exporter": "python",
   "pygments_lexer": "ipython3",
   "version": "3.6.4"
  }
 },
 "nbformat": 4,
 "nbformat_minor": 2
}
