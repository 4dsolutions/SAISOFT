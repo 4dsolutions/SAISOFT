{
 "cells": [
  {
   "cell_type": "markdown",
   "metadata": {},
   "source": [
    "[Back to Overview](overview.ipynb)\n",
    "\n",
    "# Data Structures:  Keeping Data Organized\n",
    "#### by Kirby Urner\n",
    "\n",
    "Lets look at data from the perspective, first, of a user browsing the Web, and encountering information, perhaps updating it.\n",
    "\n",
    "Then lets see how Python works with data using its own built-in structures.\n",
    "\n",
    "Then, lastly, we'll feed some data to a Machine Learning algorithm and see if it figures out our pattern.\n",
    "\n",
    "## 1. Anatomy of a Website\n",
    "\n",
    "The verb \"keep\" is interesting, in that if you've studied the anatomy of castles, you'll know the central building, where the crown, jewels and sceptre are kept, is called the Keep.\n",
    "\n",
    "Keeping Data, might be a term of art, although it currently isn't.\n",
    "\n",
    "Sometimes, in fairy tales, [a dragon](https://tvtropes.org/pmwiki/pmwiki.php/Main/DragonHoard) keeps guard over [the hoard of treasure](https://youtu.be/MH49zLTeQsE).\n",
    "\n",
    "<a data-flickr-embed=\"true\"  href=\"https://www.flickr.com/photos/kirbyurner/31900281608/in/dateposted-public/\" title=\"youtube_django\"><img src=\"https://farm5.staticflickr.com/4883/31900281608_1851b05ce2.jpg\" width=\"500\" height=\"360\" alt=\"youtube_django\"></a><script async src=\"//embedr.flickr.com/assets/client-code.js\" charset=\"utf-8\"></script>\n",
    "\n",
    "<br/>\n",
    "As you may have heard me explain in class, the smokey snake emerging from a genie lamp in this crudely drawn picture (below) represents Python.  \n",
    "\n",
    "Authentication and data storage are likely two of its perviews (where storage is full CRUD:  Create Retrieve Update Delete).  \n",
    "\n",
    "The Python DBI is well suited to chatting with SQL engines.  NoSQL engines (e.g. Neo4j) provide drivers as well.\n",
    "\n",
    "That's all server-side behind the scenes.  The client browser puts on the JavaScript puppet show, meaning the client side stays responsive and animated in an asynchronous process teathered to the server through what we call AJAX, or more generally, backdoor exhanges of JSON, XML, HTTP and so on.\n",
    "\n",
    "A classic web framework will provide a Model, View, Controller architecture (MVC), wherein the views show changes made in the model, in reaction to the controller doing stuff.\n",
    "\n",
    "In [a tinyflask website](https://github.com/4dsolutions/tiny_flask), used in the course, we take a look at a simple anatomy, featuring Flask atop SQLite.\n",
    "\n",
    "<a data-flickr-embed=\"true\"  href=\"https://www.flickr.com/photos/kirbyurner/9583829639/in/photolist-27Qk7d8-XdQNYJ-VcSFee-oy7oP7-fATCE4-9oKHcV-9mV46z-8JMt7W-7uuc4g-7iy6jr-76Xswj-76XsFm-6WcupH-6QZD8h-6QVzKx-6y72Mo-6xXBCb-6xNgjY-5JVBmV-5z7Qey-5f9rAd-5f54mc\" title=\"Browser as Theater\"><img src=\"https://farm8.staticflickr.com/7301/9583829639_8199c0b3c6.jpg\" width=\"500\" height=\"375\" alt=\"Browser as Theater\"></a><script async src=\"//embedr.flickr.com/assets/client-code.js\" charset=\"utf-8\"></script>\n",
    "\n",
    "We introduce data structures through the lense of a website, because that's very typically how we intereact with data stores.\n",
    "\n",
    "The Python language is designed from the ground up for working with data.\n",
    "\n",
    "## 2. Built In Data Structures\n",
    "\n",
    "Probably the first data structure you encounter in Python will be the list, although technically the string is a data structure (of letters, or str type objects).  \n",
    "\n",
    "Then come the tuple (like an immutable list) and the dict (not even a sequence).  \n",
    "\n",
    "All of these types use square brackets (`[]`) to retrieve contents, and matching up with square brackets are Python special names ```__getitem__``` and ```__setitem__```.\n",
    "\n",
    "As Alex Martelli points out in one of his lectures, special names are deliberately \"ugly\" because we want to steer coders towards using square brackets when feasible.  Sometimes, though, we have to get behind the scenes, under the surface, into the guts of Python, and that's where special names (or ```__ribs___``` as I call them) come into focus."
   ]
  },
  {
   "cell_type": "code",
   "execution_count": 1,
   "metadata": {},
   "outputs": [
    {
     "name": "stdout",
     "output_type": "stream",
     "text": [
      "thing of <class 'tuple'> (-1, 2, 3, 'a', '🐙', '🐳', '🐯') \n",
      "\n",
      "thing of <class 'list'> ['a', '🐙', '🐳', '🐯'] \n",
      "\n",
      "thing of <class 'str'> a🐙🐳🐯 \n",
      "\n",
      "thing of <class 'dict'> {-1: 2, 2: 3, 3: 'a', 'a': '🐙', '🐙': '🐳', '🐳': '🐯'} \n",
      "\n"
     ]
    }
   ],
   "source": [
    "### BUILT-IN DATA STRUCTURES\n",
    "\n",
    "# TUPLE\n",
    "the_tuple = (-1, 2, 3, 'a', '🐙', '🐳', '🐯')  # <-- emoji are Unicode\n",
    "\n",
    "# LIST\n",
    "the_list = list(the_tuple[3:])  # <-- slice off the first 3, grab the rest\n",
    "\n",
    "# STRING\n",
    "the_str = \"\".join(the_list)  # <-- glue list elements together with empty string\n",
    "\n",
    "# DICT\n",
    "the_dict = dict(zip(the_tuple[:-1], the_tuple[1:])) # <-- pair each element with next in line\n",
    "\n",
    "for thing in the_tuple, the_list, the_str, the_dict:\n",
    "    print(\"thing of\", type(thing), thing, \"\\n\")"
   ]
  },
  {
   "cell_type": "markdown",
   "metadata": {},
   "source": [
    "The above code is pretty fancy, not \"beginner\" necessarily.  We start using slice notation, with a colon in brackets, right off the bat.  You'll see slices again when we get to Numpy.\n",
    "\n",
    "Notice how square brackets keep cropping up, and with the same meaning:  we're using them to retreive (the R in CRUD).  Square brackets are also used to update.\n",
    "\n",
    "In the case of sequence types (string, list, range, tuple...) we speak of \"indexes\"."
   ]
  },
  {
   "cell_type": "code",
   "execution_count": 2,
   "metadata": {},
   "outputs": [
    {
     "data": {
      "text/plain": [
       "'🐙'"
      ]
     },
     "execution_count": 2,
     "metadata": {},
     "output_type": "execute_result"
    }
   ],
   "source": [
    "the_list[1]"
   ]
  },
  {
   "cell_type": "markdown",
   "metadata": {},
   "source": [
    "In the case of mappings (dicts), we speak of \"keys\"."
   ]
  },
  {
   "cell_type": "code",
   "execution_count": 3,
   "metadata": {},
   "outputs": [
    {
     "data": {
      "text/plain": [
       "'🐳'"
      ]
     },
     "execution_count": 3,
     "metadata": {},
     "output_type": "execute_result"
    }
   ],
   "source": [
    "the_dict['🐙']"
   ]
  },
  {
   "cell_type": "markdown",
   "metadata": {},
   "source": [
    "The cell below demonstrates how ```__getitem__``` is the verb behind use of square brackets. \n",
    "\n",
    "```\n",
    "obj[n]\n",
    "``` \n",
    "\n",
    "translates to\n",
    "\n",
    "```\n",
    "obj.__getitem__(n)\n",
    "``` \n",
    "\n",
    "in Python's mind (interpretation). \n",
    "\n",
    "Likewise... \n",
    "\n",
    "```\n",
    "obj[n] = x\n",
    "``` \n",
    "\n",
    "is the same as saying: \n",
    "\n",
    "```\n",
    "obj.__setitem__(n) = x\n",
    "```.\n",
    "\n",
    "In review:\n",
    "\n",
    "The code cell below emphasizes the uniformity of the API, meaning all these data structures use ```__getitem__``` to implement bracket syntax.\n",
    "\n",
    "Notice that -1 means \"last in line\" when used as an index, but in the case of ```the_dict```, it's a key.  We would have to deal with a ```KeyError``` were a -1 key not included."
   ]
  },
  {
   "cell_type": "code",
   "execution_count": 4,
   "metadata": {},
   "outputs": [
    {
     "name": "stdout",
     "output_type": "stream",
     "text": [
      "🐯, 🐯\n",
      "🐯, 🐯\n",
      "🐯, 🐯\n",
      "2, 2\n"
     ]
    }
   ],
   "source": [
    "for thing in the_tuple, the_list, the_str, the_dict:  # all our data structures\n",
    "\n",
    "    # use the special name __getitem__ in place of brackets\n",
    "    print(thing.__getitem__(-1), end=\", \")  # all four use __getitem__\n",
    "    \n",
    "    # now use brackets and so the answer is the same\n",
    "    print(thing[-1]) # ... except in the case of the_dict, where it's a key, not an index"
   ]
  },
  {
   "cell_type": "markdown",
   "metadata": {},
   "source": [
    "## 3. Machine Learning\n",
    "\n",
    "The function below returns pseudo-random strings of 1s and 0s, of the requested length.  \n",
    "\n",
    "We're going to use such strings to build a pseudo data set suitable for feeding to a Machine Learning algorithm."
   ]
  },
  {
   "cell_type": "code",
   "execution_count": 5,
   "metadata": {},
   "outputs": [
    {
     "name": "stdout",
     "output_type": "stream",
     "text": [
      "10100001000111010010\n",
      "01111001010101010010\n",
      "11110100010001011100\n",
      "10000101110110100101\n",
      "00110100010010101011\n"
     ]
    }
   ],
   "source": [
    "from random import choice\n",
    "\n",
    "def get_random_row(n):\n",
    "    return \"\".join([str(choice([0,1])) for _ in range(n)])\n",
    "\n",
    "for _ in range(5):\n",
    "    sample = get_random_row(20)\n",
    "    print(sample)"
   ]
  },
  {
   "cell_type": "markdown",
   "metadata": {},
   "source": [
    "But first, lets introduce another data structure.\n",
    "\n",
    "### NumPy's ndarray (3rd Party)\n",
    "\n",
    "The next data structure we often encounter in a Pythonic project, if doing any kind of number crunching, is the star of numpy:  the n-dimensional array, or ndarray.\n",
    "\n",
    "The cells below show ndarrays getting used in a typical fashion:  we feed them to a Machine Learning algorithm, a classifier.\n",
    "\n",
    "Our example is deliberately meaningless, meaning we'll pick an arbitrary pattern of 1s and 0s to match with 1.\n",
    "\n",
    "Remember chopsticks on the piano?  Think of an octave of white keys from C to shining C.  Chopsticks starts with adjacent (F,G) keys, then (E,G), then (D,B) and finally (C,C).  There's a symmetry to the pattern and a widening of the distance that is reminiscent of scissoring chopsticks."
   ]
  },
  {
   "cell_type": "code",
   "execution_count": 6,
   "metadata": {},
   "outputs": [
    {
     "data": {
      "image/jpeg": "[encoded data removed]",
      "text/html": [
       "\n",
       "        <iframe\n",
       "            width=\"400\"\n",
       "            height=\"300\"\n",
       "            src=\"https://www.youtube.com/embed/waraNMP0kK8\"\n",
       "            frameborder=\"0\"\n",
       "            allowfullscreen\n",
       "        ></iframe>\n",
       "        "
      ],
      "text/plain": [
       "<IPython.lib.display.YouTubeVideo at 0x1075cec18>"
      ]
     },
     "execution_count": 6,
     "metadata": {},
     "output_type": "execute_result"
    }
   ],
   "source": [
    "from IPython.lib.display import YouTubeVideo\n",
    "YouTubeVideo('waraNMP0kK8')"
   ]
  },
  {
   "cell_type": "markdown",
   "metadata": {},
   "source": [
    "If we model the octave with eight slots, and think of pressed keys as 1s, the rest 0, then our chopsticks key pattern is as follows:\n",
    "\n",
    "```\n",
    "00011000\n",
    "00101000\n",
    "01000010\n",
    "10000001\n",
    "```\n",
    "\n",
    "We're only taking note pairs from the opening bars, to keep it simple.\n",
    "\n",
    "Now think of a steady stream of random patterns.  We'll stipulate always eight slots containing 1 or 0, but that's the only rule. \n",
    "\n",
    "Genuine \"chopstick\" sequences will be few and far between, so we'll need a lot of samples if we want our machine to really learn.\n",
    "\n",
    "Not having enough data is one of the many pitfalls when it comes to discerning patterns in data."
   ]
  },
  {
   "cell_type": "code",
   "execution_count": 7,
   "metadata": {
    "collapsed": true
   },
   "outputs": [],
   "source": [
    "import numpy as np\n",
    "\n",
    "def make_data(n, w, correct):\n",
    "    \"\"\"\n",
    "    Make X of n samples, of w ints 1 and 0, \n",
    "    pairing each sequence with a Y such that:\n",
    "    \n",
    "    Yi == 1 if Xi is in correct\n",
    "    Yi == 0 otherwise\n",
    "    \"\"\"\n",
    "    X = np.empty(shape=(n, w), dtype=int) # n samples, w slots\n",
    "    Y = np.empty(shape=(n, 1), dtype=int) # one answer per sample\n",
    "    \n",
    "    for row in range(n):\n",
    "        features = get_random_row(w)\n",
    "        y = 0  # unless a pattern matches   \n",
    "        # Patterns\n",
    "        if features in correct: \n",
    "            y = 1  # we have a match\n",
    "            \n",
    "        Y[row, 0]    = y  # record verdict\n",
    "        # fancy list comprehension to convert strs to ints\n",
    "        X[row, :] = list(map(lambda x: int(x), features))\n",
    "        \n",
    "    return X, Y\n",
    "\n",
    "# here's where we decide 'how many' -- feel free to change that\n",
    "chopsticks =  ['00011000','00101000', '01000010', '10000001']\n",
    "train_samples, train_answers = make_data(10000, 8, chopsticks)"
   ]
  },
  {
   "cell_type": "code",
   "execution_count": 8,
   "metadata": {},
   "outputs": [
    {
     "name": "stdout",
     "output_type": "stream",
     "text": [
      "(10000, 8)\n",
      "(10000, 1)\n"
     ]
    }
   ],
   "source": [
    "print(train_samples.shape)  # the key patterns\n",
    "print(train_answers.shape)  # the answer column"
   ]
  },
  {
   "cell_type": "code",
   "execution_count": 9,
   "metadata": {},
   "outputs": [
    {
     "data": {
      "text/plain": [
       "array([[1, 1, 0, 1, 0, 1, 1, 0],\n",
       "       [0, 1, 0, 0, 0, 0, 1, 0],\n",
       "       [0, 1, 1, 1, 0, 0, 1, 0],\n",
       "       [1, 0, 0, 1, 1, 1, 0, 0],\n",
       "       [1, 0, 1, 0, 0, 1, 0, 0]])"
      ]
     },
     "execution_count": 9,
     "metadata": {},
     "output_type": "execute_result"
    }
   ],
   "source": [
    "train_samples[0:5]"
   ]
  },
  {
   "cell_type": "code",
   "execution_count": 10,
   "metadata": {},
   "outputs": [
    {
     "data": {
      "text/plain": [
       "array([[0],\n",
       "       [1],\n",
       "       [0],\n",
       "       [0],\n",
       "       [0]])"
      ]
     },
     "execution_count": 10,
     "metadata": {},
     "output_type": "execute_result"
    }
   ],
   "source": [
    "train_answers[0:5]"
   ]
  },
  {
   "cell_type": "markdown",
   "metadata": {},
   "source": [
    "We may stack X and Y horizontally, side by side, just to see the eight keys, followed by a ninth column, 1 or 0, that flags the pattern as a chopstick or not."
   ]
  },
  {
   "cell_type": "code",
   "execution_count": 11,
   "metadata": {},
   "outputs": [
    {
     "data": {
      "text/plain": [
       "array([[1, 1, 0, 1, 0, 1, 1, 0, 0],\n",
       "       [0, 1, 0, 0, 0, 0, 1, 0, 1],\n",
       "       [0, 1, 1, 1, 0, 0, 1, 0, 0],\n",
       "       [1, 0, 0, 1, 1, 1, 0, 0, 0],\n",
       "       [1, 0, 1, 0, 0, 1, 0, 0, 0]])"
      ]
     },
     "execution_count": 11,
     "metadata": {},
     "output_type": "execute_result"
    }
   ],
   "source": [
    "np.hstack([train_samples[0:5], train_answers[0:5]])  # gluing arrays together sideways"
   ]
  },
  {
   "cell_type": "markdown",
   "metadata": {},
   "source": [
    "As a check, lets print the first 10 rows for which the corresponding ```train_answer``` is 1.  \n",
    "\n",
    "This is to be sure we understand which patterns match with 1, and to confirm the algorithm is working properly."
   ]
  },
  {
   "cell_type": "code",
   "execution_count": 12,
   "metadata": {},
   "outputs": [
    {
     "name": "stdout",
     "output_type": "stream",
     "text": [
      "[0 1 0 0 0 0 1 0]\n",
      "[1 0 0 0 0 0 0 1]\n",
      "[0 0 1 0 1 0 0 0]\n",
      "[1 0 0 0 0 0 0 1]\n",
      "[0 1 0 0 0 0 1 0]\n",
      "[0 0 1 0 1 0 0 0]\n",
      "[0 0 0 1 1 0 0 0]\n",
      "[1 0 0 0 0 0 0 1]\n",
      "[0 1 0 0 0 0 1 0]\n",
      "[0 1 0 0 0 0 1 0]\n",
      "[0 0 0 1 1 0 0 0]\n"
     ]
    }
   ],
   "source": [
    "lines = 0\n",
    "for idx, sample in enumerate(train_samples):\n",
    "    if train_answers[idx]:  # lets only print chopsticks\n",
    "        print(sample)\n",
    "        lines += 1\n",
    "    if lines > 10:\n",
    "        break"
   ]
  },
  {
   "cell_type": "markdown",
   "metadata": {},
   "source": [
    "Yep, that looks right.  We have the data we expect.  Lets feed it to a machine learning algorithm."
   ]
  },
  {
   "cell_type": "markdown",
   "metadata": {},
   "source": [
    "### Learning with scikit-learn (sklearn)\n",
    "\n",
    "Now we're ready to take one of the Machine Learning algorithms down from the shelf.  Lets go with KNN and fit the training data so far.\n",
    "\n",
    "Dimensionality matters:  the \"right answer\" column is expected to be one-dimensional, meaning we need to use ```ravel```.  Remember Y was (1000, 1).  After raveling, it's shape is simply (1000, )."
   ]
  },
  {
   "cell_type": "code",
   "execution_count": 13,
   "metadata": {},
   "outputs": [
    {
     "data": {
      "text/plain": [
       "KNeighborsClassifier(algorithm='auto', leaf_size=30, metric='minkowski',\n",
       "           metric_params=None, n_jobs=1, n_neighbors=3, p=2,\n",
       "           weights='uniform')"
      ]
     },
     "execution_count": 13,
     "metadata": {},
     "output_type": "execute_result"
    }
   ],
   "source": [
    "from sklearn.neighbors import KNeighborsClassifier\n",
    "neigh = KNeighborsClassifier(n_neighbors=3)\n",
    "neigh.fit(train_samples, train_answers.ravel()) "
   ]
  },
  {
   "cell_type": "markdown",
   "metadata": {},
   "source": [
    "If the fitting went well, then we would expect any chopstick pattern, fed to predict, to come back with a 1.  Feel free to try a few.  Then we'll mass test on more data."
   ]
  },
  {
   "cell_type": "code",
   "execution_count": 14,
   "metadata": {},
   "outputs": [
    {
     "data": {
      "text/plain": [
       "array([1])"
      ]
     },
     "execution_count": 14,
     "metadata": {},
     "output_type": "execute_result"
    }
   ],
   "source": [
    "data = [1, 0, 0, 0, 0, 0, 0, 1]\n",
    "test = np.array(data, dtype=float)\n",
    "test = test.reshape((1,8))\n",
    "neigh.predict(test)"
   ]
  },
  {
   "cell_type": "markdown",
   "metadata": {},
   "source": [
    "The cell below is about validating that our model is sea-worthy.  \n",
    "\n",
    "We make new data, of course following the same pattern, and see if our model ```neigh``` is up to the job of recognizing for which patterns to predict a 1, all other times 0.\n",
    "\n",
    "A score of 1 means it got everything right, nothing wrong."
   ]
  },
  {
   "cell_type": "code",
   "execution_count": 15,
   "metadata": {},
   "outputs": [
    {
     "data": {
      "text/plain": [
       "1.0"
      ]
     },
     "execution_count": 15,
     "metadata": {},
     "output_type": "execute_result"
    }
   ],
   "source": [
    "test_samples, test_answers = make_data(50, 8, chopsticks)\n",
    "neigh.score(test_samples, test_answers)"
   ]
  },
  {
   "cell_type": "markdown",
   "metadata": {},
   "source": [
    "Lets try another Machine Learning algorithm.  How about a Multi-Layer Perceptron Classifier?\n",
    "\n",
    "ML algorithms are like a stable of race horses.  You're free to have them compete.  See which one supplies the better predictive model.  \n",
    "\n",
    "Will the MLP Classifier do better?  \n",
    "\n",
    "In this case KNN looks hard to beat.\n",
    "\n",
    "One of the joys of scikit-learn is the algorithms all take their data the same way, so we're pretty much able to cut and paste."
   ]
  },
  {
   "cell_type": "code",
   "execution_count": 16,
   "metadata": {},
   "outputs": [
    {
     "data": {
      "text/plain": [
       "MLPClassifier(activation='relu', alpha=1e-05, batch_size='auto', beta_1=0.9,\n",
       "       beta_2=0.999, early_stopping=False, epsilon=1e-08,\n",
       "       hidden_layer_sizes=(5, 2), learning_rate='constant',\n",
       "       learning_rate_init=0.001, max_iter=200, momentum=0.9,\n",
       "       nesterovs_momentum=True, power_t=0.5, random_state=1, shuffle=True,\n",
       "       solver='lbfgs', tol=0.0001, validation_fraction=0.1, verbose=False,\n",
       "       warm_start=False)"
      ]
     },
     "execution_count": 16,
     "metadata": {},
     "output_type": "execute_result"
    }
   ],
   "source": [
    "from sklearn.neural_network import MLPClassifier\n",
    "neurons = MLPClassifier(solver='lbfgs', alpha=1e-5,\n",
    "                         hidden_layer_sizes=(5, 2), random_state=1)\n",
    "neurons.fit(train_samples, train_answers.ravel()) "
   ]
  },
  {
   "cell_type": "code",
   "execution_count": 17,
   "metadata": {},
   "outputs": [
    {
     "data": {
      "text/plain": [
       "array([0])"
      ]
     },
     "execution_count": 17,
     "metadata": {},
     "output_type": "execute_result"
    }
   ],
   "source": [
    "data = [1, 0, 0, 0, 0, 0, 0, 1]\n",
    "test = np.array(data, dtype=float)\n",
    "test = test.reshape((1,8))\n",
    "neurons.predict(test)"
   ]
  },
  {
   "cell_type": "code",
   "execution_count": 18,
   "metadata": {},
   "outputs": [
    {
     "data": {
      "text/plain": [
       "0.98"
      ]
     },
     "execution_count": 18,
     "metadata": {},
     "output_type": "execute_result"
    }
   ],
   "source": [
    "test_samples, test_answers = make_data(50, 8, chopsticks)\n",
    "neurons.score(test_samples, test_answers)"
   ]
  },
  {
   "cell_type": "markdown",
   "metadata": {},
   "source": [
    "Not so good?  But then look at all the hyper-parameters you have to play with.  \n",
    "\n",
    "You could always \"go deeper\".  The term \"deep learning\" comes from having more layers of perceptrons.  The perceptrons get trained to fire or not in response to inputs, based on what they learn from their success rate.  \n",
    "\n",
    "Maximizing success (minimizing error) involves fine tuning all the myriad feedback loops connecting perceptrons into a network.\n",
    "\n",
    "Or try training on even more data.  Neural networks need lots of grist for the mill sometimes.\n",
    "\n",
    "Let's try another, just to illustrate the consistency of the scikit-learn API.  The Support Vector Machine may also function as a classifier."
   ]
  },
  {
   "cell_type": "code",
   "execution_count": 19,
   "metadata": {},
   "outputs": [
    {
     "data": {
      "text/plain": [
       "1.0"
      ]
     },
     "execution_count": 19,
     "metadata": {},
     "output_type": "execute_result"
    }
   ],
   "source": [
    "from sklearn import svm\n",
    "clf = svm.SVC()\n",
    "clf.fit(train_samples, train_answers.ravel())  \n",
    "test_samples, test_answers = make_data(50, 8, chopsticks)\n",
    "clf.score(test_samples, test_answers)"
   ]
  },
  {
   "cell_type": "markdown",
   "metadata": {},
   "source": [
    "I got a perfect score, did you?  You may not always."
   ]
  },
  {
   "cell_type": "code",
   "execution_count": 20,
   "metadata": {},
   "outputs": [
    {
     "data": {
      "image/jpeg": "[encoded data removed]",
      "text/html": [
       "\n",
       "        <iframe\n",
       "            width=\"400\"\n",
       "            height=\"300\"\n",
       "            src=\"https://www.youtube.com/embed/tChcZpBbTTA\"\n",
       "            frameborder=\"0\"\n",
       "            allowfullscreen\n",
       "        ></iframe>\n",
       "        "
      ],
      "text/plain": [
       "<IPython.lib.display.YouTubeVideo at 0x107707b00>"
      ]
     },
     "execution_count": 20,
     "metadata": {},
     "output_type": "execute_result"
    }
   ],
   "source": [
    "YouTubeVideo('tChcZpBbTTA')"
   ]
  },
  {
   "cell_type": "markdown",
   "metadata": {},
   "source": [
    "### Big Data\n",
    "\n",
    "Little Data is very important i.e. \"big\" does not mean \"more meaningful\" it just means \"more data\" often a lot more.  \n",
    "\n",
    "When the data takes up a lot of space, then how it's managed, and how it's run through Machine Learning algorithms, becomes a topic in itself. Additional tools enter the picture, such as Apache Spark and Hadoop.\n",
    "\n",
    "### Further Reading\n",
    "\n",
    "[Another Pathway Through Python](https://medium.com/@kirbyurner/another-pathway-through-python-ace238a7437d), a story on Medium (November, 2018)\n",
    "\n",
    "[Remarks on edu-sig](https://mail.python.org/pipermail/edu-sig/2018-November/012032.html) (November, 2018)"
   ]
  }
 ],
 "metadata": {
  "kernelspec": {
   "display_name": "Python 3",
   "language": "python",
   "name": "python3"
  },
  "language_info": {
   "codemirror_mode": {
    "name": "ipython",
    "version": 3
   },
   "file_extension": ".py",
   "mimetype": "text/x-python",
   "name": "python",
   "nbconvert_exporter": "python",
   "pygments_lexer": "ipython3",
   "version": "3.6.4"
  }
 },
 "nbformat": 4,
 "nbformat_minor": 2
}
