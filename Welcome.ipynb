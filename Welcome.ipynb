{
 "cells": [
  {
   "cell_type": "markdown",
   "metadata": {},
   "source": [
    "[Overview](overview.ipynb) with Table of Contents\n",
    "\n",
    "\n",
    "# Welcome to Python World\n",
    "\n",
    "brought to you by... [SAISOFT](http://saisoft.net/)\n",
    "\n",
    "Python was originally named for Monty Python.  Guido van Rossum, a Dutchman, was a student of mathematics in Amsterdam and a fan of this British comedy troupe.\n",
    "\n",
    "However, the memes surrounding Python also connect to the reptile.\n",
    "\n",
    "<a data-flickr-embed=\"true\"  href=\"https://www.flickr.com/photos/kirbyurner/27963484878/in/album-72157693427665102/\" title=\"Barry at Large\"><img src=\"https://farm1.staticflickr.com/969/27963484878_b38f0db42a.jpg\" width=\"500\" height=\"375\" alt=\"Barry at Large\"></a><script async src=\"//embedr.flickr.com/assets/client-code.js\" charset=\"utf-8\"></script>\n",
    "\n",
    "Lets start right off with a popular 3rd party package named [requests](http://docs.python-requests.org/en/master/).  The requests package gives us a way to talk to web servers, either locally or over the internet.\n",
    "\n",
    "When we say \"3rd party\" we mean Python resources that don't come in the Standard Library.  We usually acquire these 3rd party resources by means of [pip](https://www.w3schools.com/python/python_pip.asp) or, if using [the conda distribution of Python](http://www.anaconda.org), the conda installer.  Mac users may resort to [homebrew](https://brew.sh/) on occassion."
   ]
  },
  {
   "cell_type": "code",
   "execution_count": 1,
   "metadata": {},
   "outputs": [
    {
     "data": {
      "text/plain": [
       "requests.models.Response"
      ]
     },
     "execution_count": 1,
     "metadata": {},
     "output_type": "execute_result"
    }
   ],
   "source": [
    "import requests\n",
    "response = requests.get(\"https://thekirbster.pythonanywhere.com/\")\n",
    "type(response)"
   ]
  },
  {
   "cell_type": "markdown",
   "metadata": {},
   "source": [
    "We got an object in response to the GET request but all we're asking at first is what type of object did ```requests.get``` return.  Answer:  and object of type ```requests.models.Response```.\n",
    "\n",
    "As you come to know Python, you get to know how it consists of objects of various types, and that each type comes with its own \"bag of tricks\" i.e. the things it knows how to do.  The ```dir``` function gives us the means to start looking inside an object to figure out what it knows how to do.\n",
    "\n",
    "Below is an example of Python's trademark \"list comprehension\" syntax, supposedly borrowed from Haskell.  The expression constructs a list -- note the square brackets -- by means of an expression inside. We'll feed the returned object to ```dir``` and built a list of what's inside.  ```dir``` returns a list of strings (string type objects). \n",
    "\n",
    "In this case, we also want to filter out all the \"special names\" inside ```models.Response``` type objects.  The meaning of \"special names\" gets fleshed out in the linked overview."
   ]
  },
  {
   "cell_type": "code",
   "execution_count": 2,
   "metadata": {},
   "outputs": [
    {
     "name": "stdout",
     "output_type": "stream",
     "text": [
      "Surveying the contents of an HTTP reponse type object:\n",
      "\n"
     ]
    },
    {
     "data": {
      "text/plain": [
       "['_content',\n",
       " 'apparent_encoding',\n",
       " 'content',\n",
       " 'encoding',\n",
       " 'is_permanent_redirect',\n",
       " 'iter_lines',\n",
       " 'next',\n",
       " 'raw',\n",
       " 'status_code']"
      ]
     },
     "execution_count": 2,
     "metadata": {},
     "output_type": "execute_result"
    }
   ],
   "source": [
    "print(\"Surveying the contents of an HTTP reponse type object:\\n\")\n",
    "\n",
    "# list comprehension syntax:\n",
    "guts_of_response = [elem for elem in dir(response) if \"__\" not in elem]\n",
    "\n",
    "# slice notation [from:to:step]\n",
    "guts_of_response[::3]  # show every 3 tricks a Response might do"
   ]
  },
  {
   "cell_type": "markdown",
   "metadata": {},
   "source": [
    "Below is a first function (note use of ```def```), which accessess some of the attributes a ```response``` type object contains."
   ]
  },
  {
   "cell_type": "code",
   "execution_count": 3,
   "metadata": {},
   "outputs": [
    {
     "name": "stdout",
     "output_type": "stream",
     "text": [
      "REPORT:\n",
      "STATUS CODE: 200\n",
      "        URL: https://thekirbster.pythonanywhere.com/\n",
      "     REASON: OK\n"
     ]
    }
   ],
   "source": [
    "def report(r):           # a first function\n",
    "    \"\"\"\n",
    "    What did the response object return to us?\n",
    "    \"\"\"\n",
    "    print(\"REPORT:\")\n",
    "    print(\"STATUS CODE: {}\".format(r.status_code))\n",
    "    print(\"        URL: {}\".format(r.url))\n",
    "    print(\"     REASON: {}\".format(r.reason))\n",
    "    \n",
    "report(response)  # calling the function right above"
   ]
  },
  {
   "cell_type": "markdown",
   "metadata": {},
   "source": [
    "The bare bones request sent by the ```requests.get()``` function may be not to the server's liking and a [403 Access Denied code](https://www.checkupdown.com/status/E403.html) is therefore returned, not surprisingly.  \n",
    "\n",
    "Your code should be ready to handle many kinds of error, sometimes referred to as Exceptions in Python.  We'll learn about exception handling in another notebook.\n",
    "\n",
    "Lets try some HTTPS GET syntax.  \n",
    "\n",
    "Notice the *?elem=all* at the end of the URL.  That's passing an argument over [the GET protocol](https://www.w3schools.com/tags/ref_httpmethods.asp), part of the overall HTTP specification."
   ]
  },
  {
   "cell_type": "code",
   "execution_count": 4,
   "metadata": {},
   "outputs": [],
   "source": [
    "URL = \"https://thekirbster.pythonanywhere.com/api/elements?elem=all\"\n",
    "response = requests.get(URL)  # URL is pronounced \"You Are Ell\" or as \"Earl\""
   ]
  },
  {
   "cell_type": "markdown",
   "metadata": {},
   "source": [
    "### Did you know?\n",
    "\n",
    "Sometimes URL is replaced with URI in the documentation, which stands for Universal Resource Index (versus Locator).\n",
    "\n",
    "The HTTP protocol was invented at CERN, in Switzerland, by Tim Berners-Lee.  HTTP was but one protocol among many, sharing the road with SMTP (email), NNTP (news), FTP (generic files) and several others.  \n",
    "\n",
    "These days, the internet is dominated by HTTPS, which is HTTP with an encryption layer.  A lot of developers were dreaming of hypertext in the early 1980s. Vannevar Bush envisioned something like it in 1945 in his famous [*As We May Think*](https://www.theatlantic.com/magazine/archive/1945/07/as-we-may-think/303881/) in the *Atlantic Monthly*.\n",
    "\n",
    "Instead of seeking to build a proprietary and expensive company product, Tim got his solution out there as a public protocol (http) anyone could write servers and browsers to work with, and the rest is history.\n",
    "\n",
    "Perhaps you have heard of Elliptic Curve Cryptography (ECC).  This numeric recipe helps with HTTPS, meaning cryptographically enhanced ordinary HTTP, or HTTP with added Transport Layer Security ([TLS](https://computer.howstuffworks.com/encryption4.htm)). \n",
    "\n",
    "Both [ECC](https://arstechnica.com/information-technology/2013/10/a-relatively-easy-to-understand-primer-on-elliptic-curve-cryptography/) and [RSA](https://github.com/4dsolutions/Python5/blob/master/Public%20Key%20Cryptography.ipynb) make it possible for perfect strangers to engage in public handshaking (metaphorically speaking) and thereby exchange a symmetric session key, the conventional kind of shared secret cryptography had always depended on, pre public key."
   ]
  },
  {
   "cell_type": "code",
   "execution_count": 5,
   "metadata": {},
   "outputs": [
    {
     "name": "stdout",
     "output_type": "stream",
     "text": [
      "REPORT:\n",
      "STATUS CODE: 200\n",
      "        URL: https://thekirbster.pythonanywhere.com/api/elements?elem=all\n",
      "     REASON: OK\n"
     ]
    }
   ],
   "source": [
    "report(response)"
   ]
  },
  {
   "cell_type": "markdown",
   "metadata": {},
   "source": [
    "What the server sent back was a JSON string of bytes with all the data.  The response type is quite ready to convert that JSON into Python for us, easily done.  \n",
    "\n",
    "JSON or JavaScript Object Notation is just raw JavaScript data structures sent as readable strings. Python and JavaScript are quite similar in their data structures so eyeballing JSON is a lot like eyeballing Python.\n",
    "\n",
    "```python_dictionary``` in the code cell below, is somewhat unimaginatively named, like naming your dog \"dog\", or your cat \"cat\".  \n",
    "\n",
    "Naming your actors with a lot of conscious awareness of the roles they'll be playing will make your play, er script, er program, a joy to read.  Remember, given Unicode, you may want to experiment with names in many human languages.\n",
    "\n",
    "```periodic_table``` would be better.  We will add that as a synonym, pointing to the same object on the heap."
   ]
  },
  {
   "cell_type": "code",
   "execution_count": 6,
   "metadata": {},
   "outputs": [
    {
     "data": {
      "text/plain": [
       "[1, 'H', 'Hydrogen', 1.008, 'diatomic nonmetal', 1498013115, 'KTU']"
      ]
     },
     "execution_count": 6,
     "metadata": {},
     "output_type": "execute_result"
    }
   ],
   "source": [
    "# json is way of serializing data -- making it a string of bytes\n",
    "python_dictionary = response.json()\n",
    "python_dictionary['H']  # Hydrogen"
   ]
  },
  {
   "cell_type": "code",
   "execution_count": 7,
   "metadata": {},
   "outputs": [],
   "source": [
    "periodic_table = python_dictionary"
   ]
  },
  {
   "cell_type": "code",
   "execution_count": 8,
   "metadata": {},
   "outputs": [
    {
     "data": {
      "text/plain": [
       "('V', [23, 'V', 'Vanadium', 50.94151, 'transition metal', 1493462392, 'KTU'])"
      ]
     },
     "execution_count": 8,
     "metadata": {},
     "output_type": "execute_result"
    }
   ],
   "source": [
    "tuple.__call__(periodic_table.items()).__getitem__(1)"
   ]
  },
  {
   "cell_type": "markdown",
   "metadata": {},
   "source": [
    "That's quite a verbose way of expressing..."
   ]
  },
  {
   "cell_type": "code",
   "execution_count": 9,
   "metadata": {},
   "outputs": [
    {
     "data": {
      "text/plain": [
       "('V', [23, 'V', 'Vanadium', 50.94151, 'transition metal', 1493462392, 'KTU'])"
      ]
     },
     "execution_count": 9,
     "metadata": {},
     "output_type": "execute_result"
    }
   ],
   "source": [
    "tuple(periodic_table.items())[1]"
   ]
  },
  {
   "cell_type": "markdown",
   "metadata": {},
   "source": [
    "The longer way exercises one's understanding of the special names and their scaffolding role.\n",
    "\n",
    "Note the keys of our dictionary are in no particular order at the moment.  We might like to sort the chemicals by atomic number, which is the number of protons in each element.  Lets do that next."
   ]
  },
  {
   "cell_type": "code",
   "execution_count": 10,
   "metadata": {},
   "outputs": [
    {
     "name": "stdout",
     "output_type": "stream",
     "text": [
      "Si, V, P, Cs, Pr, Ba, O, Ta, Es, Sb, Bh, Pb, Cr, Hs, Au, Cm, Se, Nd, Rg, U, Th, Ce, Pt, Y, Yb, Cu, Tl, Re, Pm, Gd, At, Be, Al, C, Te, Nh, Co, Fl, Er, F, K, Lv, Xe, Md, In, Zn, B, Cn, N, Mo, Og, Rb, Na, Ga, Rn, Os, Bi, Ru, Tm, Sc, No, Sr, Cl, Lu, Ag, Ra, W, Eu, Pu, Po, Nb, He, Rh, Ca, Ge, Pd, Pa, Mc, As, Ni, Sn, Db, Ho, Cd, Kr, Li, Bk, Cf, Ar, Mt, Br, Mg, Ac, Hf, Ti, S, Np, La, Fr, Dy, Mn, Lr, Rf, I, Ds, Zr, Fm, Fe, Sg, Sm, Ir, Ne, Am, H, Tb, Tc, Hg, Ts, Ts\n"
     ]
    }
   ],
   "source": [
    "elements = python_dictionary.keys()\n",
    "for element in elements:  # also check .values()\n",
    "    print(element, end=\", \")\n",
    "else:\n",
    "    print(element)    "
   ]
  },
  {
   "cell_type": "markdown",
   "metadata": {},
   "source": [
    "<a data-flickr-embed=\"true\"  href=\"https://www.flickr.com/photos/denn/23178762/\" title=\"Periodic Table - final version\"><img src=\"https://farm1.staticflickr.com/16/23178762_0e94ccf117.jpg\" width=\"500\" height=\"350\" alt=\"Periodic Table - final version\"></a><script async src=\"//embedr.flickr.com/assets/client-code.js\" charset=\"utf-8\"></script>\n",
    "<center>\n",
    "[Creative Commons License](https://flic.kr/p/33NeQ)\n",
    "</center>\n",
    "\n",
    "The code below is a little fancy, showing off such builtins as ```map``` and ```sorted```, along with the keywords ```lambda```, ```for```, ```else``` and ```in```."
   ]
  },
  {
   "cell_type": "code",
   "execution_count": 11,
   "metadata": {},
   "outputs": [
    {
     "name": "stdout",
     "output_type": "stream",
     "text": [
      "H, He, Li, Be, B, C, N, O, F, Ne, Na, Mg, Al, Si, P, S, Cl, Ar, K, Ca, Sc, Ti, V, Cr, Mn, Fe, Co, Ni, Cu, Zn, Ga, Ge, As, Se, Br, Kr, Rb, Sr, Y, Zr, Nb, Mo, Tc, Ru, Rh, Pd, Ag, Cd, In, Sn, Sb, Te, I, Xe, Cs, Ba, La, Ce, Pr, Nd, Pm, Sm, Eu, Gd, Tb, Dy, Ho, Er, Tm, Yb, Lu, Hf, Ta, W, Re, Os, Ir, Pt, Au, Hg, Tl, Pb, Bi, Po, At, Rn, Fr, Ra, Ac, Th, Pa, U, Np, Pu, Am, Cm, Bk, Cf, Es, Fm, Md, No, Lr, Rf, Db, Sg, Bh, Hs, Mt, Ds, Rg, Cn, Nh, Fl, Mc, Lv, Ts, Ts\n"
     ]
    }
   ],
   "source": [
    "periodic_table = \\\n",
    "list(map(lambda pair: pair[0], \n",
    "     sorted([(key, value) for key, value \n",
    "        in python_dictionary.items()], \n",
    "     key = lambda pair: pair[1][0])))\n",
    "\n",
    "for element in periodic_table[:-1]:\n",
    "    print(element, end=\", \")\n",
    "else:\n",
    "    print(element)"
   ]
  },
  {
   "cell_type": "markdown",
   "metadata": {},
   "source": [
    "For a whole notebook on the topic of sorting in Python, visit [*An Intro to OOP: Ordering Polyhedrons*](OrderingPolys.ipynb) in this same folder.\n",
    "\n",
    "### The Dot as Accessor Operator\n",
    "\n",
    "A main takeaway:  the importance of \"the dot\" as an operator.  The \"dot com\" revolution was more about the \"dot\" than about the \"com\".  \n",
    "\n",
    "The dot is a ubiquitous operator allowing us to \"reach within\" the container to its left, using an attribute or method name on the right.  \n",
    "\n",
    "If we're calling a method, then we maybe also pass arguments.  See the Dog type below for an example."
   ]
  },
  {
   "cell_type": "code",
   "execution_count": 12,
   "metadata": {},
   "outputs": [
    {
     "data": {
      "text/plain": [
       "('Si', [14, 'Si', 'Silicon', 28.085, 'metalloid', 1493462392, 'KTU'])"
      ]
     },
     "execution_count": 12,
     "metadata": {},
     "output_type": "execute_result"
    }
   ],
   "source": [
    "tuple.__call__(python_dictionary.items()).__getitem__(0) # more verbose"
   ]
  },
  {
   "cell_type": "markdown",
   "metadata": {},
   "source": [
    "If the above means anything, it means inside of \"tuple\" is a method named ```__call__``` which eats an argument... \n",
    "\n",
    "... at which point the whole subexpression turns into something (a tuple) that, in turn, contains its methods, in this case one named ```__getitem__``` which we call with a 1."
   ]
  },
  {
   "cell_type": "code",
   "execution_count": 13,
   "metadata": {},
   "outputs": [
    {
     "data": {
      "text/plain": [
       "('Si', [14, 'Si', 'Silicon', 28.085, 'metalloid', 1493462392, 'KTU'])"
      ]
     },
     "execution_count": 13,
     "metadata": {},
     "output_type": "execute_result"
    }
   ],
   "source": [
    "tuple(python_dictionary.items())[0]  # less verbose"
   ]
  },
  {
   "cell_type": "markdown",
   "metadata": {},
   "source": [
    "What you're looking at above is a tuple representing itself, and doing a fine job of it.  The parentheses show where it begins and ends, while the comma, just one in this case, separates its two elements.  The second element is our friend the list.  Notice the square brackets.  Inside this list:  a combination of integer, floating point and string types.\n",
    "\n",
    "Python is all about objects, which all have type, and which play well together, if the script is well-written.  You will invent your own players and set them to work, doing your bidding.  \n",
    "\n",
    "We call this imperative style programming, or sometimes \"eager evaluation\" (in contrast to \"lazy\").  Your objects \"hop to\" the very moment you tell them what to do.  Python also has the idea of \"lazy evaluation\" in terms of iterators, the subject of another notebook."
   ]
  },
  {
   "cell_type": "code",
   "execution_count": 14,
   "metadata": {},
   "outputs": [
    {
     "data": {
      "text/plain": [
       "\"Tell us about your type, Mr. Object, if you please: <class 'dict'>\""
      ]
     },
     "execution_count": 14,
     "metadata": {},
     "output_type": "execute_result"
    }
   ],
   "source": [
    "\"Tell us about your type, Mr. Object, if you please: \" + str(type(python_dictionary))"
   ]
  },
  {
   "cell_type": "markdown",
   "metadata": {},
   "source": [
    "### Epiphany!\n",
    "\n",
    "By ```type``` we mean the same thing as we mean by ```class``` in Python.  Some types are given to us, by virtue of booting into Python World.  Other types we invent, usually by using the keyword ```class```.  By this means, we have types of our own design mingle with those provided by others.  Programming becomes a matter of sharing objects around, and with objects come object hierarchies."
   ]
  },
  {
   "cell_type": "code",
   "execution_count": 15,
   "metadata": {},
   "outputs": [],
   "source": [
    "class Dog:\n",
    "    def bark(self, n):\n",
    "        return \"Bark! \" * n"
   ]
  },
  {
   "cell_type": "code",
   "execution_count": 16,
   "metadata": {},
   "outputs": [],
   "source": [
    "imaginary_friend = Dog()"
   ]
  },
  {
   "cell_type": "code",
   "execution_count": 17,
   "metadata": {},
   "outputs": [
    {
     "data": {
      "text/plain": [
       "'Bark! Bark! Bark! Bark! Bark! Bark! Bark! Bark! Bark! Bark! '"
      ]
     },
     "execution_count": 17,
     "metadata": {},
     "output_type": "execute_result"
    }
   ],
   "source": [
    "imaginary_friend.bark(10)"
   ]
  },
  {
   "cell_type": "code",
   "execution_count": 18,
   "metadata": {},
   "outputs": [
    {
     "data": {
      "text/plain": [
       "__main__.Dog"
      ]
     },
     "execution_count": 18,
     "metadata": {},
     "output_type": "execute_result"
    }
   ],
   "source": [
    "type(imaginary_friend)"
   ]
  },
  {
   "cell_type": "markdown",
   "metadata": {},
   "source": [
    "Above, my Dog type has but one method, that of barking.  I must pass in a single argument, the number of times to bark (```n```).  The self is inferred from ```imaginary_friend``` being like the subject of the sentence, to the left of our famouse dot.  We might also have said:"
   ]
  },
  {
   "cell_type": "code",
   "execution_count": 19,
   "metadata": {},
   "outputs": [
    {
     "data": {
      "text/plain": [
       "'Bark! Bark! Bark! Bark! Bark! Bark! Bark! '"
      ]
     },
     "execution_count": 19,
     "metadata": {},
     "output_type": "execute_result"
    }
   ],
   "source": [
    "Dog.bark(imaginary_friend, 7)"
   ]
  },
  {
   "cell_type": "markdown",
   "metadata": {},
   "source": [
    "In other words, if we start by mentioning the generic Dog (the class, not any specific individual), then we don't yet know which of the possibly many dogs we could mean.  \n",
    "\n",
    "If employing this way of saying things, we must take responsbility for matching up a specific dog argument with the parameter ```self```.  You're learning a new grammar.  The rules stay pretty consistent, which is a nice feature.\n",
    "\n",
    "In Ruby, we could reopen the Dog class and continue defining it.  Python will let me inject a new method into the ```Dog.__dict__```, a table of contents for that type."
   ]
  },
  {
   "cell_type": "code",
   "execution_count": 20,
   "metadata": {},
   "outputs": [
    {
     "data": {
      "text/plain": [
       "<__main__.Dog at 0x10b4e7550>"
      ]
     },
     "execution_count": 20,
     "metadata": {},
     "output_type": "execute_result"
    }
   ],
   "source": [
    "imaginary_friend"
   ]
  },
  {
   "cell_type": "markdown",
   "metadata": {},
   "source": [
    "That's not a very pretty representation of a Dog type object, so we resolve to supply the existing Dog type object with a better \"repper\" (rhymes with \"pepper\"), meaning a method named ```__repr__```."
   ]
  },
  {
   "cell_type": "code",
   "execution_count": 21,
   "metadata": {},
   "outputs": [
    {
     "data": {
      "text/plain": [
       "mappingproxy({'__module__': '__main__',\n",
       "              'bark': <function __main__.Dog.bark(self, n)>,\n",
       "              '__dict__': <attribute '__dict__' of 'Dog' objects>,\n",
       "              '__weakref__': <attribute '__weakref__' of 'Dog' objects>,\n",
       "              '__doc__': None,\n",
       "              '__repr__': <function __main__.repr_method(self)>})"
      ]
     },
     "execution_count": 21,
     "metadata": {},
     "output_type": "execute_result"
    }
   ],
   "source": [
    "def repr_method(self):\n",
    "    return \"Dog type object living at {}\".format(id(self))\n",
    "\n",
    "Dog.__repr__ = repr_method  # inject into Dog\n",
    "Dog.__dict__"
   ]
  },
  {
   "cell_type": "code",
   "execution_count": 22,
   "metadata": {},
   "outputs": [
    {
     "data": {
      "text/plain": [
       "Dog type object living at 4484658512"
      ]
     },
     "execution_count": 22,
     "metadata": {},
     "output_type": "execute_result"
    }
   ],
   "source": [
    "imaginary_friend"
   ]
  },
  {
   "cell_type": "markdown",
   "metadata": {},
   "source": [
    "Much better!  Woof!"
   ]
  }
 ],
 "metadata": {
  "kernelspec": {
   "display_name": "Python 3",
   "language": "python",
   "name": "python3"
  },
  "language_info": {
   "codemirror_mode": {
    "name": "ipython",
    "version": 3
   },
   "file_extension": ".py",
   "mimetype": "text/x-python",
   "name": "python",
   "nbconvert_exporter": "python",
   "pygments_lexer": "ipython3",
   "version": "3.6.7"
  }
 },
 "nbformat": 4,
 "nbformat_minor": 2
}
