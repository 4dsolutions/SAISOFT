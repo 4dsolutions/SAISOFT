{
 "cells": [
  {
   "cell_type": "markdown",
   "metadata": {},
   "source": [
    "[overview](overview.ipynb)\n",
    "\n",
    "\n",
    "# Welcome to Python World\n",
    "\n",
    "brought to you by... [SAISOFT](http://saisoft.net/)"
   ]
  },
  {
   "cell_type": "code",
   "execution_count": 1,
   "metadata": {
    "collapsed": true
   },
   "outputs": [],
   "source": [
    "import requests\n",
    "response = requests.get(\"https://thekirbster.pythonanywhere.com/\")"
   ]
  },
  {
   "cell_type": "markdown",
   "metadata": {},
   "source": [
    "Below is an example of Python's trademarked \"list comprehension\" syntax, supposedly borrowed from Haskell.  The expression constructs a list, note the square brackets, by means of an expression inside.  \n",
    "\n",
    "In this case, we also want to filter out all the \"special names\" inside ```requests.response``` type objects."
   ]
  },
  {
   "cell_type": "code",
   "execution_count": 2,
   "metadata": {},
   "outputs": [
    {
     "data": {
      "text/plain": [
       "['_content', 'content', 'history', 'json', 'reason']"
      ]
     },
     "execution_count": 2,
     "metadata": {},
     "output_type": "execute_result"
    }
   ],
   "source": [
    "guts_of_response = [func for func in dir(response) if \"__\" not in func]\n",
    "guts_of_response[::5]  # show every five tricks it might do"
   ]
  },
  {
   "cell_type": "code",
   "execution_count": 3,
   "metadata": {},
   "outputs": [
    {
     "name": "stdout",
     "output_type": "stream",
     "text": [
      "REPORT:\n",
      "STATUS CODE: 200\n",
      "        URL: https://thekirbster.pythonanywhere.com/\n"
     ]
    }
   ],
   "source": [
    "def report():\n",
    "    print(\"REPORT:\")\n",
    "    print(\"STATUS CODE: {}\".format(response.status_code))\n",
    "    print(\"        URL: {}\".format(response.url))\n",
    "    \n",
    "report()  # calling the function right above"
   ]
  },
  {
   "cell_type": "markdown",
   "metadata": {},
   "source": [
    "The bare bones request sent by the requests.get() function is not to the server's liking and a [403 Access Denied code](https://www.checkupdown.com/status/E403.html) is returned, not surprisingly.  Your code should be ready to handle many kinds of error, sometimes referred to as Exceptions in Python.\n",
    "\n",
    "Lets try some GET syntax.  Notice the *?elem=all* at the end of the URL?  That's passing an argument over the GET protocol, part of the overall HTTP specification."
   ]
  },
  {
   "cell_type": "code",
   "execution_count": 4,
   "metadata": {
    "collapsed": true
   },
   "outputs": [],
   "source": [
    "URL = \"https://thekirbster.pythonanywhere.com/api/elements?elem=all\"\n",
    "response = requests.get(URL)  # pronounced \"You Are Ell\" or as \"Earl\""
   ]
  },
  {
   "cell_type": "markdown",
   "metadata": {},
   "source": [
    "### Did you know?\n",
    "\n",
    "Sometimes URL is replaced with URI in the documentation.  The HTTP protocol was invented at CERN, in Switzerland, by Tim Berners-Lee.  HTTP was but one protocol among many, sharing the road with SMTP, NNTP, FTP and several others.  These days, the internet is dominated by HTTPS, which is HTTP with an encryption layer.\n",
    "\n",
    "Ever hear of Elliptic Curve Cryptography? \n",
    "\n",
    "That and RSA made it possible for perfect strangers to engage in public handshaking (metaphorically speaking) and thereby exchange a symmetric key, the conventional kind of shared secret which cryptography had always depended on, even pre public key."
   ]
  },
  {
   "cell_type": "code",
   "execution_count": 5,
   "metadata": {},
   "outputs": [
    {
     "name": "stdout",
     "output_type": "stream",
     "text": [
      "REPORT:\n",
      "STATUS CODE: 200\n",
      "        URL: https://thekirbster.pythonanywhere.com/api/elements?elem=all\n"
     ]
    }
   ],
   "source": [
    "report()"
   ]
  },
  {
   "cell_type": "code",
   "execution_count": 6,
   "metadata": {
    "collapsed": true
   },
   "outputs": [],
   "source": [
    "import json\n",
    "python_dictionary = response.json()"
   ]
  },
  {
   "cell_type": "markdown",
   "metadata": {},
   "source": [
    "What the server sent back was a JSON string of bytes with all the data.  The response type is quite ready to convert that JSON into Python for us, easily done.  \n",
    "\n",
    "```python_dictionary``` is unimaginatively named, like naming your dog \"dog\", or your cat \"cat\".  Naming your actors with a lot of conscious awareness of the roles they'll be playing will make your play, er script, er program, a joy to read."
   ]
  },
  {
   "cell_type": "code",
   "execution_count": 7,
   "metadata": {},
   "outputs": [
    {
     "data": {
      "text/plain": [
       "dict_keys(['Pa', 'He', 'Ac', 'U', 'Pd', 'Rb', 'Bi', 'Nd', 'C', 'Mc', 'Ar', 'V', 'Sg', 'Dy', 'Db', 'Fl', 'Br', 'Ti', 'Er', 'Gd', 'Lv', 'Ta', 'Ne', 'Am', 'Xe', 'Nb', 'Hs', 'P', 'Rh', 'Po', 'N', 'Si', 'Tc', 'Cn', 'Ts', 'Na', 'Pb', 'Sc', 'Cm', 'Ir', 'Sn', 'Mg', 'Rn', 'Nh', 'Og', 'Cd', 'No', 'Hg', 'Zr', 'Tb', 'S', 'Eu', 'Cs', 'H', 'O', 'Bh', 'Zn', 'Ce', 'Mt', 'Te', 'Rg', 'Be', 'Pm', 'Fe', 'Cl', 'W', 'Mn', 'Ru', 'Rf', 'Ga', 'Ni', 'B', 'Ds', 'Se', 'Hf', 'Li', 'Y', 'Sm', 'Cf', 'Al', 'Cr', 'La', 'Ge', 'Sb', 'Os', 'Pt', 'Sr', 'Lr', 'Ag', 'As', 'Bk', 'Lu', 'Fr', 'K', 'Re', 'Pr', 'In', 'Cu', 'Ra', 'Fm', 'At', 'Kr', 'Pu', 'Th', 'Co', 'F', 'Yb', 'I', 'Np', 'Au', 'Ho', 'Ba', 'Tl', 'Tm', 'Md', 'Es', 'Mo', 'Ca'])"
      ]
     },
     "execution_count": 7,
     "metadata": {},
     "output_type": "execute_result"
    }
   ],
   "source": [
    "python_dictionary.keys()  # also check .values()"
   ]
  },
  {
   "cell_type": "markdown",
   "metadata": {},
   "source": [
    "A main takeaway:  the importance of \"the dot\" as an operator.  The \"dot com\" revolution was more about the \"dot\" than the \"com\".  The dot is a ubiquitous operator allowing us to \"reach within\" the container to its left, using an attribute or method name on the right.  If we're calling a method, then we maybe also pass arguments."
   ]
  },
  {
   "cell_type": "code",
   "execution_count": 8,
   "metadata": {},
   "outputs": [
    {
     "data": {
      "text/plain": [
       "('He', [2, 'He', 'Helium', 4.0026022, 'noble gas', 1493462392, 'KTU'])"
      ]
     },
     "execution_count": 8,
     "metadata": {},
     "output_type": "execute_result"
    }
   ],
   "source": [
    "tuple.__call__(python_dictionary.items()).__getitem__(1)"
   ]
  },
  {
   "cell_type": "markdown",
   "metadata": {},
   "source": [
    "If the above means anything, it means inside of \"tuple\" is a method named ```__call__``` which eats an argument... \n",
    "\n",
    "... at which point the whole subexpression turns into something (a tuple) that, in turn, contains its methods, in this case one named ```__getitem__``` which we call with a 1."
   ]
  },
  {
   "cell_type": "code",
   "execution_count": 9,
   "metadata": {},
   "outputs": [
    {
     "data": {
      "text/plain": [
       "('He', [2, 'He', 'Helium', 4.0026022, 'noble gas', 1493462392, 'KTU'])"
      ]
     },
     "execution_count": 9,
     "metadata": {},
     "output_type": "execute_result"
    }
   ],
   "source": [
    "tuple(python_dictionary.items())[1]  # a less verbose way of saying the same thing"
   ]
  },
  {
   "cell_type": "markdown",
   "metadata": {},
   "source": [
    "What you're looking at above is a tuple representing itself, and doing a fine job of it.  The parentheses show where it begins and ends, while the comma, just one in this case, separates its two elements.  The second element is our friend the list.  Notice the square brackets.  Inside this list:  a combination of integer, floating point and string types.\n",
    "\n",
    "Python is all about objects, which all have type, and which play well together, if the script is well-written.  You will invent your own players and set them to work, doing your bidding.  We call this imperative style programming, or sometimes \"eager evaluation\" (in contrast to \"lazy\").  Your objects \"hop to\" the very moment you tell them what to do."
   ]
  },
  {
   "cell_type": "code",
   "execution_count": 10,
   "metadata": {},
   "outputs": [
    {
     "data": {
      "text/plain": [
       "\"Tell us about your type, Mr. Object, if you please: <class 'dict'>\""
      ]
     },
     "execution_count": 10,
     "metadata": {},
     "output_type": "execute_result"
    }
   ],
   "source": [
    "\"Tell us about your type, Mr. Object, if you please: \" + str(type(python_dictionary))"
   ]
  },
  {
   "cell_type": "markdown",
   "metadata": {},
   "source": [
    "### Epiphany!\n",
    "\n",
    "By ```type``` we mean the same thing as we mean by ```class``` in Python.  Some types are given to us, by virtue of booting into Python World.  Other types we invent, usually by using the keyword ```class```.  By this means, we have types of our own design mingle with those provided by others.  Programming becomes a matter of sharing objects around, and with objects come object hierarchies."
   ]
  },
  {
   "cell_type": "code",
   "execution_count": 11,
   "metadata": {
    "collapsed": true
   },
   "outputs": [],
   "source": [
    "class Dog:\n",
    "    def bark(self, n):\n",
    "        return \"Bark! \" * n"
   ]
  },
  {
   "cell_type": "code",
   "execution_count": 12,
   "metadata": {
    "collapsed": true
   },
   "outputs": [],
   "source": [
    "imaginary_friend = Dog()"
   ]
  },
  {
   "cell_type": "code",
   "execution_count": 13,
   "metadata": {},
   "outputs": [
    {
     "data": {
      "text/plain": [
       "'Bark! Bark! Bark! Bark! Bark! Bark! Bark! Bark! Bark! Bark! '"
      ]
     },
     "execution_count": 13,
     "metadata": {},
     "output_type": "execute_result"
    }
   ],
   "source": [
    "imaginary_friend.bark(10)"
   ]
  },
  {
   "cell_type": "code",
   "execution_count": 14,
   "metadata": {},
   "outputs": [
    {
     "data": {
      "text/plain": [
       "__main__.Dog"
      ]
     },
     "execution_count": 14,
     "metadata": {},
     "output_type": "execute_result"
    }
   ],
   "source": [
    "type(imaginary_friend)"
   ]
  },
  {
   "cell_type": "markdown",
   "metadata": {},
   "source": [
    "Above, my Dog type has but one method, that of barking.  I must pass in a single argument, the number of times to bark (```n```).  The self is inferred from ```imaginary_friend``` being like the subject of the sentence, to the left of our famouse dot.  We might also have said:"
   ]
  },
  {
   "cell_type": "code",
   "execution_count": 15,
   "metadata": {},
   "outputs": [
    {
     "data": {
      "text/plain": [
       "'Bark! Bark! Bark! Bark! Bark! Bark! Bark! '"
      ]
     },
     "execution_count": 15,
     "metadata": {},
     "output_type": "execute_result"
    }
   ],
   "source": [
    "Dog.bark(imaginary_friend, 7)"
   ]
  },
  {
   "cell_type": "markdown",
   "metadata": {},
   "source": [
    "In other words, if we start by mentioning the generic Dog (the class, not any specific individual), then we don't yet know which of the possibly many dogs we could mean.  \n",
    "\n",
    "If employing this way of saying things, we must take responsbility for matching up a specific dog argument with the parameter ```self```.  You're learning a new grammar.  The rules stay pretty consistent, which is a nice feature.\n",
    "\n",
    "In Ruby, we could reopen the Dog class and continue defining it.  Python will let me inject a new method into the ```Dog.__dict__```, a table of contents for that type."
   ]
  },
  {
   "cell_type": "code",
   "execution_count": 16,
   "metadata": {},
   "outputs": [
    {
     "data": {
      "text/plain": [
       "<__main__.Dog at 0x10f55f160>"
      ]
     },
     "execution_count": 16,
     "metadata": {},
     "output_type": "execute_result"
    }
   ],
   "source": [
    "imaginary_friend"
   ]
  },
  {
   "cell_type": "markdown",
   "metadata": {},
   "source": [
    "That's not a very pretty representation of a Dog type object, so we resolve to supply the existing Dog type object with a better \"repper\" (rhymes with \"pepper\"), meaning a method named ```__repr__```."
   ]
  },
  {
   "cell_type": "code",
   "execution_count": 17,
   "metadata": {
    "collapsed": true
   },
   "outputs": [],
   "source": [
    "def repr_method(self):\n",
    "    return \"Dog type object living at {}\".format(id(self))\n",
    "\n",
    "Dog.__repr__ = repr_method"
   ]
  },
  {
   "cell_type": "code",
   "execution_count": 18,
   "metadata": {},
   "outputs": [
    {
     "data": {
      "text/plain": [
       "Dog type object living at 4552257888"
      ]
     },
     "execution_count": 18,
     "metadata": {},
     "output_type": "execute_result"
    }
   ],
   "source": [
    "imaginary_friend"
   ]
  },
  {
   "cell_type": "markdown",
   "metadata": {},
   "source": [
    "Much better!  Woof!"
   ]
  }
 ],
 "metadata": {
  "kernelspec": {
   "display_name": "Python 3",
   "language": "python",
   "name": "python3"
  },
  "language_info": {
   "codemirror_mode": {
    "name": "ipython",
    "version": 3
   },
   "file_extension": ".py",
   "mimetype": "text/x-python",
   "name": "python",
   "nbconvert_exporter": "python",
   "pygments_lexer": "ipython3",
   "version": "3.6.4"
  }
 },
 "nbformat": 4,
 "nbformat_minor": 2
}
