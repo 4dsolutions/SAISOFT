{
 "cells": [
  {
   "cell_type": "markdown",
   "metadata": {},
   "source": [
    "# An Intro to OOP:  Ordering Polyhedrons\n",
    "\n",
    "<a data-flickr-embed=\"true\"  href=\"https://www.flickr.com/photos/kirbyurner/4073417238/in/photolist-231UJ5S-QrfReH-GNshah-q8vyLo-fwsLq7-fwdt8t-fwsARu-fwsE89-c5RPLS-bH5gvP-8xp1nN-8tm3iL-8thDyL-8teDJ4-8thDHW-8ryECF-8ryEix-8ryyt2-8pNQou-8teEm2-5QyKsS-8thE4q-8batec-7cXk2G-6n24Ja-5QyKe7-7jZLhp\" title=\"Synergetics Volumes\"><img src=\"https://farm3.staticflickr.com/2686/4073417238_1683a5705f.jpg\" width=\"500\" height=\"444\" alt=\"Synergetics Volumes\"></a><script async src=\"//embedr.flickr.com/assets/client-code.js\" charset=\"utf-8\"></script>\n",
    "\n",
    "These are not necessarily the volumes you're used to.  They depend on sizing the polyhedrons relative to one another in a specific way, and setting the regular tetrahedron's volume to one.\n",
    "\n",
    "<a data-flickr-embed=\"true\"  href=\"https://www.flickr.com/photos/kirbyurner/30187479138/in/dateposted-public/\" title=\"4fold\"><img src=\"https://farm2.staticflickr.com/1799/30187479138_80e7891c0d.jpg\" width=\"400\" height=\"360\" alt=\"4fold\"></a><script async src=\"//embedr.flickr.com/assets/client-code.js\" charset=\"utf-8\"></script>\n",
    "\n",
    "The octahedron, tetrahedron and cuboctahedron have the same edge lengths (D).  The cube's face diagonals are D, while the rhombic dodecahedron's long face diagonals are likewise D.\n",
    "\n",
    "For more information on this volumes hierarchy see:\n",
    "\n",
    "* [Volumes (1 of 2)](http://grunch.net/synergetics/volumes.html)\n",
    "\n",
    "* [Volumes (2 of 2)](http://grunch.net/synergetics/volumes2.html)\n",
    "\n",
    "* [Bridging the Chasm...](https://medium.com/@kirbyurner/bridging-the-chasm-new-england-transcendentalism-in-the-1900s-1dfa4c2950d0)"
   ]
  },
  {
   "cell_type": "code",
   "execution_count": 4,
   "metadata": {},
   "outputs": [
    {
     "data": {
      "text/plain": [
       "(('tetrahedron', 1), ('octahedron', 4), ('cube', 3), ('cuboctahedron', 20))"
      ]
     },
     "execution_count": 4,
     "metadata": {},
     "output_type": "execute_result"
    }
   ],
   "source": [
    ">>> polyvols = {\"tetrahedron\":1, \n",
    "                \"octahedron\":4, \n",
    "                \"cube\":3,\n",
    "                \"cuboctahedron\":20}\n",
    "\n",
    ">>> vols_tuples = tuple(polyvols.items())\n",
    ">>> vols_tuples"
   ]
  },
  {
   "cell_type": "markdown",
   "metadata": {},
   "source": [
    "By default, the ```sorted``` function looks at the leftmost element of a tuple or other iterable, when sorting..."
   ]
  },
  {
   "cell_type": "code",
   "execution_count": 5,
   "metadata": {},
   "outputs": [
    {
     "data": {
      "text/plain": [
       "[('cube', 3), ('cuboctahedron', 20), ('octahedron', 4), ('tetrahedron', 1)]"
      ]
     },
     "execution_count": 5,
     "metadata": {},
     "output_type": "execute_result"
    }
   ],
   "source": [
    ">>> sorted(vols_tuples)  # alphabetical"
   ]
  },
  {
   "cell_type": "markdown",
   "metadata": {},
   "source": [
    "... however we have the means to override that default.\n",
    "\n",
    "Using a lambda expression for the named argument ```key```, we tell Python to fish up element [1] from each element of ```vols_tuples```, meaning the integer volume."
   ]
  },
  {
   "cell_type": "code",
   "execution_count": 6,
   "metadata": {},
   "outputs": [
    {
     "data": {
      "text/plain": [
       "[('tetrahedron', 1), ('cube', 3), ('octahedron', 4), ('cuboctahedron', 20)]"
      ]
     },
     "execution_count": 6,
     "metadata": {},
     "output_type": "execute_result"
    }
   ],
   "source": [
    ">>> sorted(vols_tuples, key=lambda t: t[1]) # by volume, get to use lambda"
   ]
  },
  {
   "cell_type": "markdown",
   "metadata": {},
   "source": [
    "The Python docs suggest another approach:  using ```itemgetter``` and/or ```attrgetter``` from the operator module.  These take what item or attribute to get, and return an function ready to apply to whatever argument, in this case to the tuples."
   ]
  },
  {
   "cell_type": "code",
   "execution_count": 7,
   "metadata": {
    "collapsed": true
   },
   "outputs": [],
   "source": [
    "from operator import itemgetter\n",
    "getvol = itemgetter(1)"
   ]
  },
  {
   "cell_type": "code",
   "execution_count": 8,
   "metadata": {},
   "outputs": [
    {
     "data": {
      "text/plain": [
       "[('tetrahedron', 1), ('cube', 3), ('octahedron', 4), ('cuboctahedron', 20)]"
      ]
     },
     "execution_count": 8,
     "metadata": {},
     "output_type": "execute_result"
    }
   ],
   "source": [
    "sorted(vols_tuples, key=getvol)"
   ]
  },
  {
   "cell_type": "markdown",
   "metadata": {},
   "source": [
    "Lastly, if the objects we want to sort implement the comparitor operators, then ```sorted``` will have a clue.\n",
    "\n",
    "In the cell below, ```Polyhedron``` is the parent (base) class for several specific polyhedron types with default volumes.  After creating a tuple with one of each (an instance of each specific polyhedron), we're able to sort them directly, with no need for ```key=```.\n",
    "\n",
    "Remember about [\"special names\"](overview.ipynb).\n",
    "\n",
    "### Special Names ( ```__ribs__``` )\n",
    "\n",
    "<a data-flickr-embed=\"true\"  href=\"https://www.flickr.com/photos/internetarchivebookimages/14577615327/in/photolist-odb6ai-owt6aT-ousngN-owbdS8-wD4C7L-xBUHNc-t3LxYn-ovbr4b-oyaPpB-yooDvw-w7fA4G-y5Q1xh-xnVUZC-wEZsLh-x7KZoh\" title=\"Image from page 263 of &quot;St. Nicholas [serial]&quot; (1873)\"><img src=\"https://farm6.staticflickr.com/5568/14577615327_8b45a73aaf.jpg\" width=\"500\" height=\"180\" alt=\"Image from page 263 of &quot;St. Nicholas [serial]&quot; (1873)\"></a><script async src=\"//embedr.flickr.com/assets/client-code.js\" charset=\"utf-8\"></script>\n"
   ]
  },
  {
   "cell_type": "code",
   "execution_count": 9,
   "metadata": {},
   "outputs": [
    {
     "name": "stdout",
     "output_type": "stream",
     "text": [
      "[Tetrahedron(v=1), Cube(v=3), Octahedron(v=4), Cuboctahedron(v=20)]\n"
     ]
    }
   ],
   "source": [
    "class Polyhedron:\n",
    "    \n",
    "    def __lt__(self, other):\n",
    "        return self.volume < other.volume\n",
    "    \n",
    "    def __gt__(self, other):\n",
    "        return self.volume > other.volume\n",
    "    \n",
    "    def __eq__(self, other):\n",
    "        return self.volume == other.volume\n",
    "    \n",
    "    def scale(self, factor):\n",
    "        return type(self)(v=self.volume * factor**3)\n",
    "    \n",
    "    def __repr__(self):\n",
    "        return \"{}(v={})\".format(type(self).__name__, self.volume)\n",
    "    \n",
    "class Tetrahedron(Polyhedron):\n",
    "    \"Self dual, space-filler with octahedron\"\n",
    "    \n",
    "    def __init__(self, v=1):\n",
    "        self.volume = v\n",
    "        self.edges, self.vertexes, self.faces = (6, 4, 4)\n",
    "        \n",
    "class Cube(Polyhedron):\n",
    "    \"Dual of Octahedron, space-filler\"\n",
    "    \n",
    "    def __init__(self, v=3):\n",
    "        self.volume = v\n",
    "        self.edges, self.vertexes, self.faces = (12, 8, 6)\n",
    "        \n",
    "class Octahedron(Polyhedron):\n",
    "    \"Dual of Cube, space-filler with tetrahedron\"\n",
    "    \n",
    "    def __init__(self, v=4):\n",
    "        self.volume = v\n",
    "        self.edges, self.vertexes, self.faces = (12, 6, 8)\n",
    "\n",
    "class RhDodecahedron(Polyhedron):\n",
    "    \"Dual of Cuboctahedron, space-filler\"\n",
    "    \n",
    "    def __init__(self, v=6):\n",
    "        self.volume = v\n",
    "        self.edges, self.vertexes, self.faces = (24, 14, 12)\n",
    "        \n",
    "class Cuboctahedron(Polyhedron):\n",
    "    \"Dual of Rh Dodecahedron\"\n",
    "    \n",
    "    def __init__(self, v=20):\n",
    "        self.volume = v\n",
    "        self.edges, self.vertexes, self.faces = (24, 12, 14)\n",
    "        \n",
    "mypolys = (Tetrahedron(), Cuboctahedron(), Octahedron(), Cube())  # create instances\n",
    "volume_order = sorted(mypolys)\n",
    "print(volume_order)"
   ]
  },
  {
   "cell_type": "markdown",
   "metadata": {},
   "source": [
    "Below we're testing the scale function.  Surface area, if implemented, would grow and shrink as a 2nd power of the scale factor.  Volume changes as a 3rd power.\n",
    "\n",
    "For more on \"power laws\" see [*Scale* by Geoffrey West](https://www.santafe.edu/news-center/news/geoffrey-wests-long-anticipated-book-scale-emerges) of the Santa Fe Institute."
   ]
  },
  {
   "cell_type": "code",
   "execution_count": 10,
   "metadata": {},
   "outputs": [
    {
     "data": {
      "text/plain": [
       "1"
      ]
     },
     "execution_count": 10,
     "metadata": {},
     "output_type": "execute_result"
    }
   ],
   "source": [
    "t = Tetrahedron()\n",
    "t.volume"
   ]
  },
  {
   "cell_type": "code",
   "execution_count": 11,
   "metadata": {},
   "outputs": [
    {
     "data": {
      "text/plain": [
       "27"
      ]
     },
     "execution_count": 11,
     "metadata": {},
     "output_type": "execute_result"
    }
   ],
   "source": [
    "t2 = t.scale(3)\n",
    "t2.volume"
   ]
  },
  {
   "cell_type": "code",
   "execution_count": 12,
   "metadata": {},
   "outputs": [
    {
     "data": {
      "text/plain": [
       "True"
      ]
     },
     "execution_count": 12,
     "metadata": {},
     "output_type": "execute_result"
    }
   ],
   "source": [
    "t2 > t"
   ]
  },
  {
   "cell_type": "code",
   "execution_count": 13,
   "metadata": {},
   "outputs": [
    {
     "data": {
      "text/plain": [
       "20"
      ]
     },
     "execution_count": 13,
     "metadata": {},
     "output_type": "execute_result"
    }
   ],
   "source": [
    "c = Cuboctahedron()\n",
    "c.volume"
   ]
  },
  {
   "cell_type": "code",
   "execution_count": 15,
   "metadata": {},
   "outputs": [
    {
     "data": {
      "text/plain": [
       "2.5"
      ]
     },
     "execution_count": 15,
     "metadata": {},
     "output_type": "execute_result"
    }
   ],
   "source": [
    "small_c = c.scale(1/2)\n",
    "small_c.volume"
   ]
  }
 ],
 "metadata": {
  "kernelspec": {
   "display_name": "Python 3",
   "language": "python",
   "name": "python3"
  },
  "language_info": {
   "codemirror_mode": {
    "name": "ipython",
    "version": 3
   },
   "file_extension": ".py",
   "mimetype": "text/x-python",
   "name": "python",
   "nbconvert_exporter": "python",
   "pygments_lexer": "ipython3",
   "version": "3.6.4"
  }
 },
 "nbformat": 4,
 "nbformat_minor": 2
}
